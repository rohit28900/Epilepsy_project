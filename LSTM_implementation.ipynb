{
  "nbformat": 4,
  "nbformat_minor": 0,
  "metadata": {
    "colab": {
      "name": "LSTM_implementation.ipynb",
      "provenance": [],
      "authorship_tag": "ABX9TyNJYufz38sa6vcVjFLSRisU",
      "include_colab_link": true
    },
    "kernelspec": {
      "name": "python3",
      "display_name": "Python 3"
    },
    "language_info": {
      "name": "python"
    }
  },
  "cells": [
    {
      "cell_type": "markdown",
      "metadata": {
        "id": "view-in-github",
        "colab_type": "text"
      },
      "source": [
        "<a href=\"https://colab.research.google.com/github/rohit28900/Epilepsy_project/blob/main/LSTM_implementation.ipynb\" target=\"_parent\"><img src=\"https://colab.research.google.com/assets/colab-badge.svg\" alt=\"Open In Colab\"/></a>"
      ]
    },
    {
      "cell_type": "code",
      "execution_count": 1,
      "metadata": {
        "id": "vC3JNtSODf7G"
      },
      "outputs": [],
      "source": [
        "import tensorflow as tf\n",
        "from sklearn.metrics import cohen_kappa_score\n",
        "import time\n",
        "import pandas as pd\n",
        "import numpy as np\n",
        "import matplotlib.pyplot as plt\n",
        "from tensorflow import keras\n",
        "from keras.layers import Dropout"
      ]
    },
    {
      "cell_type": "code",
      "source": [
        "d = pd.read_csv(\"/content/data_comp.csv\", index_col=0)"
      ],
      "metadata": {
        "id": "k5HGZaYgD1R6"
      },
      "execution_count": 2,
      "outputs": []
    },
    {
      "cell_type": "code",
      "source": [
        "d.head()"
      ],
      "metadata": {
        "colab": {
          "base_uri": "https://localhost:8080/",
          "height": 206
        },
        "id": "SUmTzSQoYEJm",
        "outputId": "675e7460-588a-4220-c3e3-2513109494fd"
      },
      "execution_count": 3,
      "outputs": [
        {
          "output_type": "execute_result",
          "data": {
            "text/html": [
              "\n",
              "  <div id=\"df-9aede8e9-af63-4b96-b70d-f2a0d95d86c7\">\n",
              "    <div class=\"colab-df-container\">\n",
              "      <div>\n",
              "<style scoped>\n",
              "    .dataframe tbody tr th:only-of-type {\n",
              "        vertical-align: middle;\n",
              "    }\n",
              "\n",
              "    .dataframe tbody tr th {\n",
              "        vertical-align: top;\n",
              "    }\n",
              "\n",
              "    .dataframe thead th {\n",
              "        text-align: right;\n",
              "    }\n",
              "</style>\n",
              "<table border=\"1\" class=\"dataframe\">\n",
              "  <thead>\n",
              "    <tr style=\"text-align: right;\">\n",
              "      <th></th>\n",
              "      <th>Mean Variance</th>\n",
              "      <th>PSD Delta</th>\n",
              "      <th>PSD Theta</th>\n",
              "      <th>PSD Alpha</th>\n",
              "      <th>PSD Beta</th>\n",
              "      <th>PSD Gamma</th>\n",
              "      <th>Label</th>\n",
              "    </tr>\n",
              "  </thead>\n",
              "  <tbody>\n",
              "    <tr>\n",
              "      <th>0</th>\n",
              "      <td>1.063623e-09</td>\n",
              "      <td>6803.705628</td>\n",
              "      <td>1088.536540</td>\n",
              "      <td>276.516785</td>\n",
              "      <td>37.114802</td>\n",
              "      <td>36.482136</td>\n",
              "      <td>1</td>\n",
              "    </tr>\n",
              "    <tr>\n",
              "      <th>1</th>\n",
              "      <td>1.311105e-09</td>\n",
              "      <td>5486.911334</td>\n",
              "      <td>2131.881992</td>\n",
              "      <td>139.811807</td>\n",
              "      <td>149.476963</td>\n",
              "      <td>334.945798</td>\n",
              "      <td>1</td>\n",
              "    </tr>\n",
              "    <tr>\n",
              "      <th>2</th>\n",
              "      <td>2.029157e-09</td>\n",
              "      <td>12903.033643</td>\n",
              "      <td>1996.041708</td>\n",
              "      <td>136.940630</td>\n",
              "      <td>133.463115</td>\n",
              "      <td>227.643655</td>\n",
              "      <td>1</td>\n",
              "    </tr>\n",
              "    <tr>\n",
              "      <th>3</th>\n",
              "      <td>3.702044e-09</td>\n",
              "      <td>10878.246633</td>\n",
              "      <td>957.557670</td>\n",
              "      <td>108.993285</td>\n",
              "      <td>64.010655</td>\n",
              "      <td>79.691697</td>\n",
              "      <td>1</td>\n",
              "    </tr>\n",
              "    <tr>\n",
              "      <th>4</th>\n",
              "      <td>1.063623e-09</td>\n",
              "      <td>406.554541</td>\n",
              "      <td>142.041811</td>\n",
              "      <td>196.992531</td>\n",
              "      <td>26.481469</td>\n",
              "      <td>2.325851</td>\n",
              "      <td>0</td>\n",
              "    </tr>\n",
              "  </tbody>\n",
              "</table>\n",
              "</div>\n",
              "      <button class=\"colab-df-convert\" onclick=\"convertToInteractive('df-9aede8e9-af63-4b96-b70d-f2a0d95d86c7')\"\n",
              "              title=\"Convert this dataframe to an interactive table.\"\n",
              "              style=\"display:none;\">\n",
              "        \n",
              "  <svg xmlns=\"http://www.w3.org/2000/svg\" height=\"24px\"viewBox=\"0 0 24 24\"\n",
              "       width=\"24px\">\n",
              "    <path d=\"M0 0h24v24H0V0z\" fill=\"none\"/>\n",
              "    <path d=\"M18.56 5.44l.94 2.06.94-2.06 2.06-.94-2.06-.94-.94-2.06-.94 2.06-2.06.94zm-11 1L8.5 8.5l.94-2.06 2.06-.94-2.06-.94L8.5 2.5l-.94 2.06-2.06.94zm10 10l.94 2.06.94-2.06 2.06-.94-2.06-.94-.94-2.06-.94 2.06-2.06.94z\"/><path d=\"M17.41 7.96l-1.37-1.37c-.4-.4-.92-.59-1.43-.59-.52 0-1.04.2-1.43.59L10.3 9.45l-7.72 7.72c-.78.78-.78 2.05 0 2.83L4 21.41c.39.39.9.59 1.41.59.51 0 1.02-.2 1.41-.59l7.78-7.78 2.81-2.81c.8-.78.8-2.07 0-2.86zM5.41 20L4 18.59l7.72-7.72 1.47 1.35L5.41 20z\"/>\n",
              "  </svg>\n",
              "      </button>\n",
              "      \n",
              "  <style>\n",
              "    .colab-df-container {\n",
              "      display:flex;\n",
              "      flex-wrap:wrap;\n",
              "      gap: 12px;\n",
              "    }\n",
              "\n",
              "    .colab-df-convert {\n",
              "      background-color: #E8F0FE;\n",
              "      border: none;\n",
              "      border-radius: 50%;\n",
              "      cursor: pointer;\n",
              "      display: none;\n",
              "      fill: #1967D2;\n",
              "      height: 32px;\n",
              "      padding: 0 0 0 0;\n",
              "      width: 32px;\n",
              "    }\n",
              "\n",
              "    .colab-df-convert:hover {\n",
              "      background-color: #E2EBFA;\n",
              "      box-shadow: 0px 1px 2px rgba(60, 64, 67, 0.3), 0px 1px 3px 1px rgba(60, 64, 67, 0.15);\n",
              "      fill: #174EA6;\n",
              "    }\n",
              "\n",
              "    [theme=dark] .colab-df-convert {\n",
              "      background-color: #3B4455;\n",
              "      fill: #D2E3FC;\n",
              "    }\n",
              "\n",
              "    [theme=dark] .colab-df-convert:hover {\n",
              "      background-color: #434B5C;\n",
              "      box-shadow: 0px 1px 3px 1px rgba(0, 0, 0, 0.15);\n",
              "      filter: drop-shadow(0px 1px 2px rgba(0, 0, 0, 0.3));\n",
              "      fill: #FFFFFF;\n",
              "    }\n",
              "  </style>\n",
              "\n",
              "      <script>\n",
              "        const buttonEl =\n",
              "          document.querySelector('#df-9aede8e9-af63-4b96-b70d-f2a0d95d86c7 button.colab-df-convert');\n",
              "        buttonEl.style.display =\n",
              "          google.colab.kernel.accessAllowed ? 'block' : 'none';\n",
              "\n",
              "        async function convertToInteractive(key) {\n",
              "          const element = document.querySelector('#df-9aede8e9-af63-4b96-b70d-f2a0d95d86c7');\n",
              "          const dataTable =\n",
              "            await google.colab.kernel.invokeFunction('convertToInteractive',\n",
              "                                                     [key], {});\n",
              "          if (!dataTable) return;\n",
              "\n",
              "          const docLinkHtml = 'Like what you see? Visit the ' +\n",
              "            '<a target=\"_blank\" href=https://colab.research.google.com/notebooks/data_table.ipynb>data table notebook</a>'\n",
              "            + ' to learn more about interactive tables.';\n",
              "          element.innerHTML = '';\n",
              "          dataTable['output_type'] = 'display_data';\n",
              "          await google.colab.output.renderOutput(dataTable, element);\n",
              "          const docLink = document.createElement('div');\n",
              "          docLink.innerHTML = docLinkHtml;\n",
              "          element.appendChild(docLink);\n",
              "        }\n",
              "      </script>\n",
              "    </div>\n",
              "  </div>\n",
              "  "
            ],
            "text/plain": [
              "   Mean Variance     PSD Delta    PSD Theta   PSD Alpha    PSD Beta  \\\n",
              "0   1.063623e-09   6803.705628  1088.536540  276.516785   37.114802   \n",
              "1   1.311105e-09   5486.911334  2131.881992  139.811807  149.476963   \n",
              "2   2.029157e-09  12903.033643  1996.041708  136.940630  133.463115   \n",
              "3   3.702044e-09  10878.246633   957.557670  108.993285   64.010655   \n",
              "4   1.063623e-09    406.554541   142.041811  196.992531   26.481469   \n",
              "\n",
              "    PSD Gamma  Label  \n",
              "0   36.482136      1  \n",
              "1  334.945798      1  \n",
              "2  227.643655      1  \n",
              "3   79.691697      1  \n",
              "4    2.325851      0  "
            ]
          },
          "metadata": {},
          "execution_count": 3
        }
      ]
    },
    {
      "cell_type": "code",
      "source": [
        "X = d.iloc[:, :-1].values\n",
        "y = d.iloc[:, -1].values"
      ],
      "metadata": {
        "id": "Q5An13cfD8YJ"
      },
      "execution_count": 4,
      "outputs": []
    },
    {
      "cell_type": "code",
      "source": [
        "X"
      ],
      "metadata": {
        "colab": {
          "base_uri": "https://localhost:8080/"
        },
        "id": "XkDoFytnYVCz",
        "outputId": "bc0295f9-34f8-47e0-f957-133b5593f97e"
      },
      "execution_count": 5,
      "outputs": [
        {
          "output_type": "execute_result",
          "data": {
            "text/plain": [
              "array([[1.06362305e-09, 6.80370563e+03, 1.08853654e+03, 2.76516785e+02,\n",
              "        3.71148017e+01, 3.64821357e+01],\n",
              "       [1.31110548e-09, 5.48691133e+03, 2.13188199e+03, 1.39811807e+02,\n",
              "        1.49476963e+02, 3.34945798e+02],\n",
              "       [2.02915712e-09, 1.29030336e+04, 1.99604171e+03, 1.36940630e+02,\n",
              "        1.33463115e+02, 2.27643655e+02],\n",
              "       ...,\n",
              "       [8.27478182e-10, 4.10461991e+02, 9.12538286e+01, 1.84604099e+01,\n",
              "        5.87045165e+00, 1.64970102e+00],\n",
              "       [6.70255799e-10, 2.40244999e+02, 5.92967296e+01, 1.73037371e+01,\n",
              "        5.69161304e+00, 2.03518339e+00],\n",
              "       [6.01071389e-10, 3.38760021e+02, 8.23101547e+01, 3.60822111e+01,\n",
              "        8.85893433e+00, 1.91297665e+00]])"
            ]
          },
          "metadata": {},
          "execution_count": 5
        }
      ]
    },
    {
      "cell_type": "code",
      "source": [
        "from sklearn.model_selection import train_test_split\n",
        "X_train, X_test, y_train, y_test = train_test_split(X, y, test_size = 0.25, random_state = 6)"
      ],
      "metadata": {
        "id": "fExAh69eEAp4"
      },
      "execution_count": 6,
      "outputs": []
    },
    {
      "cell_type": "code",
      "source": [
        "from sklearn.preprocessing import StandardScaler\n",
        "sc = StandardScaler()\n",
        "X_train = sc.fit_transform(X_train)\n",
        "X_test = sc.fit_transform(X_test)"
      ],
      "metadata": {
        "id": "g7JLMlpdEENj"
      },
      "execution_count": 7,
      "outputs": []
    },
    {
      "cell_type": "code",
      "source": [
        "X_train"
      ],
      "metadata": {
        "colab": {
          "base_uri": "https://localhost:8080/"
        },
        "id": "jpzEAcI3EIzJ",
        "outputId": "8c82b482-b50d-4677-ab10-b70a41ea0e12"
      },
      "execution_count": 8,
      "outputs": [
        {
          "output_type": "execute_result",
          "data": {
            "text/plain": [
              "array([[-0.68197179, -0.62192336, -0.53319276, -0.49243916, -0.33582202,\n",
              "        -0.39039437],\n",
              "       [-0.29373576, -0.30715157, -0.06379523, -0.30858885, -0.6125811 ,\n",
              "        -0.60334351],\n",
              "       [-0.86381171, -0.72481267, -0.69037788, -0.63913325, -0.65937801,\n",
              "        -0.59597754],\n",
              "       ...,\n",
              "       [-0.26084955,  1.49447919,  5.65987275,  3.38349202,  0.61208899,\n",
              "         0.19843914],\n",
              "       [-0.38421453, -0.62838918, -0.40858449,  0.11651266, -0.63020781,\n",
              "        -0.6032912 ],\n",
              "       [-0.849641  , -0.38736464, -0.30479075,  0.13788991, -0.27370188,\n",
              "        -0.42530617]])"
            ]
          },
          "metadata": {},
          "execution_count": 8
        }
      ]
    },
    {
      "cell_type": "code",
      "source": [
        "X_train = X_train.reshape(X_train.shape[0],6 , 1)"
      ],
      "metadata": {
        "id": "7xeayC42EOrV"
      },
      "execution_count": 9,
      "outputs": []
    },
    {
      "cell_type": "code",
      "source": [
        "X_train"
      ],
      "metadata": {
        "colab": {
          "base_uri": "https://localhost:8080/"
        },
        "id": "IXiEGplNEUud",
        "outputId": "b274ac32-7de6-422d-9931-9fff735eee43"
      },
      "execution_count": 10,
      "outputs": [
        {
          "output_type": "execute_result",
          "data": {
            "text/plain": [
              "array([[[-0.68197179],\n",
              "        [-0.62192336],\n",
              "        [-0.53319276],\n",
              "        [-0.49243916],\n",
              "        [-0.33582202],\n",
              "        [-0.39039437]],\n",
              "\n",
              "       [[-0.29373576],\n",
              "        [-0.30715157],\n",
              "        [-0.06379523],\n",
              "        [-0.30858885],\n",
              "        [-0.6125811 ],\n",
              "        [-0.60334351]],\n",
              "\n",
              "       [[-0.86381171],\n",
              "        [-0.72481267],\n",
              "        [-0.69037788],\n",
              "        [-0.63913325],\n",
              "        [-0.65937801],\n",
              "        [-0.59597754]],\n",
              "\n",
              "       ...,\n",
              "\n",
              "       [[-0.26084955],\n",
              "        [ 1.49447919],\n",
              "        [ 5.65987275],\n",
              "        [ 3.38349202],\n",
              "        [ 0.61208899],\n",
              "        [ 0.19843914]],\n",
              "\n",
              "       [[-0.38421453],\n",
              "        [-0.62838918],\n",
              "        [-0.40858449],\n",
              "        [ 0.11651266],\n",
              "        [-0.63020781],\n",
              "        [-0.6032912 ]],\n",
              "\n",
              "       [[-0.849641  ],\n",
              "        [-0.38736464],\n",
              "        [-0.30479075],\n",
              "        [ 0.13788991],\n",
              "        [-0.27370188],\n",
              "        [-0.42530617]]])"
            ]
          },
          "metadata": {},
          "execution_count": 10
        }
      ]
    },
    {
      "cell_type": "code",
      "source": [
        "X_test = X_test.reshape(X_test.shape[0],6 , 1)"
      ],
      "metadata": {
        "id": "uB5X9uIPEZbj"
      },
      "execution_count": 11,
      "outputs": []
    },
    {
      "cell_type": "code",
      "source": [
        "X_test.shape"
      ],
      "metadata": {
        "colab": {
          "base_uri": "https://localhost:8080/"
        },
        "id": "d1JMbrc-FAD7",
        "outputId": "a7c5998e-07c8-4345-8aa9-85c7ec13717d"
      },
      "execution_count": 12,
      "outputs": [
        {
          "output_type": "execute_result",
          "data": {
            "text/plain": [
              "(703, 6, 1)"
            ]
          },
          "metadata": {},
          "execution_count": 12
        }
      ]
    },
    {
      "cell_type": "code",
      "source": [
        "y_train"
      ],
      "metadata": {
        "colab": {
          "base_uri": "https://localhost:8080/"
        },
        "id": "_E4dl-GTFCLK",
        "outputId": "3f18693d-d64a-4ba5-986b-a615104e8660"
      },
      "execution_count": 13,
      "outputs": [
        {
          "output_type": "execute_result",
          "data": {
            "text/plain": [
              "array([0, 0, 0, ..., 1, 0, 1])"
            ]
          },
          "metadata": {},
          "execution_count": 13
        }
      ]
    },
    {
      "cell_type": "code",
      "source": [
        "tf.random.set_seed(69)"
      ],
      "metadata": {
        "id": "yhIEsDn5FQav"
      },
      "execution_count": 14,
      "outputs": []
    },
    {
      "cell_type": "code",
      "source": [
        "lstm = keras.Sequential()"
      ],
      "metadata": {
        "id": "pN5hQAtAFWGO"
      },
      "execution_count": 20,
      "outputs": []
    },
    {
      "cell_type": "code",
      "source": [
        "lstm.add(keras.layers.LSTM(20,batch_input_shape = (None,6,1), return_sequences=True, recurrent_activation='relu'))"
      ],
      "metadata": {
        "id": "bidV36R1FaNG"
      },
      "execution_count": 21,
      "outputs": []
    },
    {
      "cell_type": "code",
      "source": [
        "lstm.add(keras.layers.LSTM(10, return_sequences=False, recurrent_activation='relu'))"
      ],
      "metadata": {
        "id": "8BfVpg4R6qgc"
      },
      "execution_count": 22,
      "outputs": []
    },
    {
      "cell_type": "code",
      "source": [
        "lstm.add(keras.layers.Dense(3,activation=\"relu\"))"
      ],
      "metadata": {
        "id": "16BMvnUjFekt"
      },
      "execution_count": 23,
      "outputs": []
    },
    {
      "cell_type": "code",
      "source": [
        "lstm.add(keras.layers.Dense(1,activation=\"sigmoid\"))"
      ],
      "metadata": {
        "id": "tbD3SQLNFiqs"
      },
      "execution_count": 24,
      "outputs": []
    },
    {
      "cell_type": "code",
      "source": [
        "lstm.compile(optimizer='adam',loss='binary_crossentropy',metrics=['TruePositives','TrueNegatives','FalsePositives','FalseNegatives','accuracy'])"
      ],
      "metadata": {
        "id": "ey1VOo75FmLo"
      },
      "execution_count": 25,
      "outputs": []
    },
    {
      "cell_type": "code",
      "source": [
        "lstm.summary()"
      ],
      "metadata": {
        "colab": {
          "base_uri": "https://localhost:8080/"
        },
        "id": "uZbVuGHgFq6C",
        "outputId": "a3a16dc7-e78e-47b8-9c5d-f22a6463a656"
      },
      "execution_count": 26,
      "outputs": [
        {
          "output_type": "stream",
          "name": "stdout",
          "text": [
            "Model: \"sequential_1\"\n",
            "_________________________________________________________________\n",
            " Layer (type)                Output Shape              Param #   \n",
            "=================================================================\n",
            " lstm_4 (LSTM)               (None, 6, 20)             1760      \n",
            "                                                                 \n",
            " lstm_5 (LSTM)               (None, 10)                1240      \n",
            "                                                                 \n",
            " dense (Dense)               (None, 3)                 33        \n",
            "                                                                 \n",
            " dense_1 (Dense)             (None, 1)                 4         \n",
            "                                                                 \n",
            "=================================================================\n",
            "Total params: 3,037\n",
            "Trainable params: 3,037\n",
            "Non-trainable params: 0\n",
            "_________________________________________________________________\n"
          ]
        }
      ]
    },
    {
      "cell_type": "code",
      "source": [
        "from keras.utils.vis_utils import plot_model\n",
        "\n",
        "plot_model(lstm, to_file='model_plot.png', show_shapes=True, show_layer_names=True)"
      ],
      "metadata": {
        "colab": {
          "base_uri": "https://localhost:8080/",
          "height": 533
        },
        "id": "UTFvDxyNBR2K",
        "outputId": "343d0b70-8fe2-4ab4-ba34-af917dd3ae90"
      },
      "execution_count": 27,
      "outputs": [
        {
          "output_type": "execute_result",
          "data": {
            "image/png": "[encoded data removed]",
            "text/plain": [
              "<IPython.core.display.Image object>"
            ]
          },
          "metadata": {},
          "execution_count": 27
        }
      ]
    },
    {
      "cell_type": "code",
      "source": [
        "start = time.time()\n",
        "his = lstm.fit(X_train, y_train, epochs=100, validation_data=(X_test,y_test))\n",
        "stop = time.time()\n",
        "print(f\"Training time: {stop - start}s\")"
      ],
      "metadata": {
        "colab": {
          "base_uri": "https://localhost:8080/"
        },
        "id": "7zGZMfWKFttq",
        "outputId": "bf579641-8f41-4779-8407-48879b849bac"
      },
      "execution_count": 28,
      "outputs": [
        {
          "output_type": "stream",
          "name": "stdout",
          "text": [
            "Epoch 1/100\n",
            "66/66 [==============================] - 5s 22ms/step - loss: 0.6736 - true_positives: 0.0000e+00 - true_negatives: 1917.0000 - false_positives: 0.0000e+00 - false_negatives: 192.0000 - accuracy: 0.9090 - val_loss: 0.6532 - val_true_positives: 0.0000e+00 - val_true_negatives: 633.0000 - val_false_positives: 0.0000e+00 - val_false_negatives: 70.0000 - val_accuracy: 0.9004\n",
            "Epoch 2/100\n",
            "66/66 [==============================] - 1s 11ms/step - loss: 0.5826 - true_positives: 0.0000e+00 - true_negatives: 1917.0000 - false_positives: 0.0000e+00 - false_negatives: 192.0000 - accuracy: 0.9090 - val_loss: 0.3712 - val_true_positives: 0.0000e+00 - val_true_negatives: 633.0000 - val_false_positives: 0.0000e+00 - val_false_negatives: 70.0000 - val_accuracy: 0.9004\n",
            "Epoch 3/100\n",
            "66/66 [==============================] - 1s 11ms/step - loss: 0.2849 - true_positives: 0.0000e+00 - true_negatives: 1916.0000 - false_positives: 1.0000 - false_negatives: 192.0000 - accuracy: 0.9085 - val_loss: 0.2567 - val_true_positives: 0.0000e+00 - val_true_negatives: 633.0000 - val_false_positives: 0.0000e+00 - val_false_negatives: 70.0000 - val_accuracy: 0.9004\n",
            "Epoch 4/100\n",
            "66/66 [==============================] - 1s 9ms/step - loss: 0.2288 - true_positives: 8.0000 - true_negatives: 1914.0000 - false_positives: 3.0000 - false_negatives: 184.0000 - accuracy: 0.9113 - val_loss: 0.2214 - val_true_positives: 23.0000 - val_true_negatives: 632.0000 - val_false_positives: 1.0000 - val_false_negatives: 47.0000 - val_accuracy: 0.9317\n",
            "Epoch 5/100\n",
            "66/66 [==============================] - 1s 10ms/step - loss: 0.1806 - true_positives: 97.0000 - true_negatives: 1899.0000 - false_positives: 18.0000 - false_negatives: 95.0000 - accuracy: 0.9464 - val_loss: 0.1401 - val_true_positives: 49.0000 - val_true_negatives: 631.0000 - val_false_positives: 2.0000 - val_false_negatives: 21.0000 - val_accuracy: 0.9673\n",
            "Epoch 6/100\n",
            "66/66 [==============================] - 1s 10ms/step - loss: 0.1396 - true_positives: 119.0000 - true_negatives: 1910.0000 - false_positives: 7.0000 - false_negatives: 73.0000 - accuracy: 0.9621 - val_loss: 0.1258 - val_true_positives: 48.0000 - val_true_negatives: 631.0000 - val_false_positives: 2.0000 - val_false_negatives: 22.0000 - val_accuracy: 0.9659\n",
            "Epoch 7/100\n",
            "66/66 [==============================] - 1s 12ms/step - loss: 0.1311 - true_positives: 124.0000 - true_negatives: 1907.0000 - false_positives: 10.0000 - false_negatives: 68.0000 - accuracy: 0.9630 - val_loss: 0.1237 - val_true_positives: 47.0000 - val_true_negatives: 629.0000 - val_false_positives: 4.0000 - val_false_negatives: 23.0000 - val_accuracy: 0.9616\n",
            "Epoch 8/100\n",
            "66/66 [==============================] - 1s 11ms/step - loss: 0.1283 - true_positives: 126.0000 - true_negatives: 1907.0000 - false_positives: 10.0000 - false_negatives: 66.0000 - accuracy: 0.9640 - val_loss: 0.1191 - val_true_positives: 48.0000 - val_true_negatives: 630.0000 - val_false_positives: 3.0000 - val_false_negatives: 22.0000 - val_accuracy: 0.9644\n",
            "Epoch 9/100\n",
            "66/66 [==============================] - 1s 10ms/step - loss: 0.1211 - true_positives: 130.0000 - true_negatives: 1907.0000 - false_positives: 10.0000 - false_negatives: 62.0000 - accuracy: 0.9659 - val_loss: 0.1211 - val_true_positives: 47.0000 - val_true_negatives: 632.0000 - val_false_positives: 1.0000 - val_false_negatives: 23.0000 - val_accuracy: 0.9659\n",
            "Epoch 10/100\n",
            "66/66 [==============================] - 1s 10ms/step - loss: 0.1225 - true_positives: 125.0000 - true_negatives: 1910.0000 - false_positives: 7.0000 - false_negatives: 67.0000 - accuracy: 0.9649 - val_loss: 0.1235 - val_true_positives: 48.0000 - val_true_negatives: 629.0000 - val_false_positives: 4.0000 - val_false_negatives: 22.0000 - val_accuracy: 0.9630\n",
            "Epoch 11/100\n",
            "66/66 [==============================] - 1s 9ms/step - loss: 0.1191 - true_positives: 131.0000 - true_negatives: 1908.0000 - false_positives: 9.0000 - false_negatives: 61.0000 - accuracy: 0.9668 - val_loss: 0.1165 - val_true_positives: 51.0000 - val_true_negatives: 629.0000 - val_false_positives: 4.0000 - val_false_negatives: 19.0000 - val_accuracy: 0.9673\n",
            "Epoch 12/100\n",
            "66/66 [==============================] - 1s 11ms/step - loss: 0.1145 - true_positives: 135.0000 - true_negatives: 1909.0000 - false_positives: 8.0000 - false_negatives: 57.0000 - accuracy: 0.9692 - val_loss: 0.1157 - val_true_positives: 50.0000 - val_true_negatives: 633.0000 - val_false_positives: 0.0000e+00 - val_false_negatives: 20.0000 - val_accuracy: 0.9716\n",
            "Epoch 13/100\n",
            "66/66 [==============================] - 1s 10ms/step - loss: 0.1133 - true_positives: 132.0000 - true_negatives: 1909.0000 - false_positives: 8.0000 - false_negatives: 60.0000 - accuracy: 0.9678 - val_loss: 0.1169 - val_true_positives: 51.0000 - val_true_negatives: 628.0000 - val_false_positives: 5.0000 - val_false_negatives: 19.0000 - val_accuracy: 0.9659\n",
            "Epoch 14/100\n",
            "66/66 [==============================] - 1s 10ms/step - loss: 0.1093 - true_positives: 136.0000 - true_negatives: 1912.0000 - false_positives: 5.0000 - false_negatives: 56.0000 - accuracy: 0.9711 - val_loss: 0.1134 - val_true_positives: 52.0000 - val_true_negatives: 627.0000 - val_false_positives: 6.0000 - val_false_negatives: 18.0000 - val_accuracy: 0.9659\n",
            "Epoch 15/100\n",
            "66/66 [==============================] - 1s 9ms/step - loss: 0.1093 - true_positives: 136.0000 - true_negatives: 1911.0000 - false_positives: 6.0000 - false_negatives: 56.0000 - accuracy: 0.9706 - val_loss: 0.1147 - val_true_positives: 50.0000 - val_true_negatives: 630.0000 - val_false_positives: 3.0000 - val_false_negatives: 20.0000 - val_accuracy: 0.9673\n",
            "Epoch 16/100\n",
            "66/66 [==============================] - 1s 9ms/step - loss: 0.1053 - true_positives: 134.0000 - true_negatives: 1913.0000 - false_positives: 4.0000 - false_negatives: 58.0000 - accuracy: 0.9706 - val_loss: 0.1136 - val_true_positives: 52.0000 - val_true_negatives: 629.0000 - val_false_positives: 4.0000 - val_false_negatives: 18.0000 - val_accuracy: 0.9687\n",
            "Epoch 17/100\n",
            "66/66 [==============================] - 1s 10ms/step - loss: 0.1049 - true_positives: 139.0000 - true_negatives: 1911.0000 - false_positives: 6.0000 - false_negatives: 53.0000 - accuracy: 0.9720 - val_loss: 0.1141 - val_true_positives: 52.0000 - val_true_negatives: 629.0000 - val_false_positives: 4.0000 - val_false_negatives: 18.0000 - val_accuracy: 0.9687\n",
            "Epoch 18/100\n",
            "66/66 [==============================] - 1s 10ms/step - loss: 0.1046 - true_positives: 138.0000 - true_negatives: 1911.0000 - false_positives: 6.0000 - false_negatives: 54.0000 - accuracy: 0.9716 - val_loss: 0.1116 - val_true_positives: 51.0000 - val_true_negatives: 630.0000 - val_false_positives: 3.0000 - val_false_negatives: 19.0000 - val_accuracy: 0.9687\n",
            "Epoch 19/100\n",
            "66/66 [==============================] - 1s 11ms/step - loss: 0.1019 - true_positives: 137.0000 - true_negatives: 1914.0000 - false_positives: 3.0000 - false_negatives: 55.0000 - accuracy: 0.9725 - val_loss: 0.1147 - val_true_positives: 53.0000 - val_true_negatives: 629.0000 - val_false_positives: 4.0000 - val_false_negatives: 17.0000 - val_accuracy: 0.9701\n",
            "Epoch 20/100\n",
            "66/66 [==============================] - 1s 10ms/step - loss: 0.1030 - true_positives: 138.0000 - true_negatives: 1911.0000 - false_positives: 6.0000 - false_negatives: 54.0000 - accuracy: 0.9716 - val_loss: 0.1122 - val_true_positives: 52.0000 - val_true_negatives: 629.0000 - val_false_positives: 4.0000 - val_false_negatives: 18.0000 - val_accuracy: 0.9687\n",
            "Epoch 21/100\n",
            "66/66 [==============================] - 1s 11ms/step - loss: 0.0987 - true_positives: 140.0000 - true_negatives: 1911.0000 - false_positives: 6.0000 - false_negatives: 52.0000 - accuracy: 0.9725 - val_loss: 0.1108 - val_true_positives: 54.0000 - val_true_negatives: 630.0000 - val_false_positives: 3.0000 - val_false_negatives: 16.0000 - val_accuracy: 0.9730\n",
            "Epoch 22/100\n",
            "66/66 [==============================] - 1s 10ms/step - loss: 0.0968 - true_positives: 139.0000 - true_negatives: 1911.0000 - false_positives: 6.0000 - false_negatives: 53.0000 - accuracy: 0.9720 - val_loss: 0.1106 - val_true_positives: 50.0000 - val_true_negatives: 629.0000 - val_false_positives: 4.0000 - val_false_negatives: 20.0000 - val_accuracy: 0.9659\n",
            "Epoch 23/100\n",
            "66/66 [==============================] - 1s 10ms/step - loss: 0.0958 - true_positives: 143.0000 - true_negatives: 1911.0000 - false_positives: 6.0000 - false_negatives: 49.0000 - accuracy: 0.9739 - val_loss: 0.1102 - val_true_positives: 52.0000 - val_true_negatives: 630.0000 - val_false_positives: 3.0000 - val_false_negatives: 18.0000 - val_accuracy: 0.9701\n",
            "Epoch 24/100\n",
            "66/66 [==============================] - 1s 9ms/step - loss: 0.0950 - true_positives: 145.0000 - true_negatives: 1911.0000 - false_positives: 6.0000 - false_negatives: 47.0000 - accuracy: 0.9749 - val_loss: 0.1169 - val_true_positives: 48.0000 - val_true_negatives: 631.0000 - val_false_positives: 2.0000 - val_false_negatives: 22.0000 - val_accuracy: 0.9659\n",
            "Epoch 25/100\n",
            "66/66 [==============================] - 1s 9ms/step - loss: 0.0961 - true_positives: 144.0000 - true_negatives: 1912.0000 - false_positives: 5.0000 - false_negatives: 48.0000 - accuracy: 0.9749 - val_loss: 0.1079 - val_true_positives: 52.0000 - val_true_negatives: 630.0000 - val_false_positives: 3.0000 - val_false_negatives: 18.0000 - val_accuracy: 0.9701\n",
            "Epoch 26/100\n",
            "66/66 [==============================] - 1s 9ms/step - loss: 0.0931 - true_positives: 144.0000 - true_negatives: 1914.0000 - false_positives: 3.0000 - false_negatives: 48.0000 - accuracy: 0.9758 - val_loss: 0.1096 - val_true_positives: 52.0000 - val_true_negatives: 628.0000 - val_false_positives: 5.0000 - val_false_negatives: 18.0000 - val_accuracy: 0.9673\n",
            "Epoch 27/100\n",
            "66/66 [==============================] - 1s 10ms/step - loss: 0.0914 - true_positives: 147.0000 - true_negatives: 1913.0000 - false_positives: 4.0000 - false_negatives: 45.0000 - accuracy: 0.9768 - val_loss: 0.1089 - val_true_positives: 49.0000 - val_true_negatives: 630.0000 - val_false_positives: 3.0000 - val_false_negatives: 21.0000 - val_accuracy: 0.9659\n",
            "Epoch 28/100\n",
            "66/66 [==============================] - 1s 9ms/step - loss: 0.0885 - true_positives: 150.0000 - true_negatives: 1913.0000 - false_positives: 4.0000 - false_negatives: 42.0000 - accuracy: 0.9782 - val_loss: 0.1183 - val_true_positives: 49.0000 - val_true_negatives: 629.0000 - val_false_positives: 4.0000 - val_false_negatives: 21.0000 - val_accuracy: 0.9644\n",
            "Epoch 29/100\n",
            "66/66 [==============================] - 1s 9ms/step - loss: 0.0952 - true_positives: 147.0000 - true_negatives: 1912.0000 - false_positives: 5.0000 - false_negatives: 45.0000 - accuracy: 0.9763 - val_loss: 0.1084 - val_true_positives: 51.0000 - val_true_negatives: 629.0000 - val_false_positives: 4.0000 - val_false_negatives: 19.0000 - val_accuracy: 0.9673\n",
            "Epoch 30/100\n",
            "66/66 [==============================] - 1s 9ms/step - loss: 0.0872 - true_positives: 150.0000 - true_negatives: 1911.0000 - false_positives: 6.0000 - false_negatives: 42.0000 - accuracy: 0.9772 - val_loss: 0.1109 - val_true_positives: 49.0000 - val_true_negatives: 630.0000 - val_false_positives: 3.0000 - val_false_negatives: 21.0000 - val_accuracy: 0.9659\n",
            "Epoch 31/100\n",
            "66/66 [==============================] - 1s 9ms/step - loss: 0.0863 - true_positives: 149.0000 - true_negatives: 1915.0000 - false_positives: 2.0000 - false_negatives: 43.0000 - accuracy: 0.9787 - val_loss: 0.1045 - val_true_positives: 53.0000 - val_true_negatives: 627.0000 - val_false_positives: 6.0000 - val_false_negatives: 17.0000 - val_accuracy: 0.9673\n",
            "Epoch 32/100\n",
            "66/66 [==============================] - 1s 9ms/step - loss: 0.0856 - true_positives: 154.0000 - true_negatives: 1912.0000 - false_positives: 5.0000 - false_negatives: 38.0000 - accuracy: 0.9796 - val_loss: 0.1056 - val_true_positives: 54.0000 - val_true_negatives: 625.0000 - val_false_positives: 8.0000 - val_false_negatives: 16.0000 - val_accuracy: 0.9659\n",
            "Epoch 33/100\n",
            "66/66 [==============================] - 1s 11ms/step - loss: 0.0861 - true_positives: 151.0000 - true_negatives: 1911.0000 - false_positives: 6.0000 - false_negatives: 41.0000 - accuracy: 0.9777 - val_loss: 0.1027 - val_true_positives: 52.0000 - val_true_negatives: 630.0000 - val_false_positives: 3.0000 - val_false_negatives: 18.0000 - val_accuracy: 0.9701\n",
            "Epoch 34/100\n",
            "66/66 [==============================] - 1s 10ms/step - loss: 0.0893 - true_positives: 153.0000 - true_negatives: 1910.0000 - false_positives: 7.0000 - false_negatives: 39.0000 - accuracy: 0.9782 - val_loss: 0.1079 - val_true_positives: 50.0000 - val_true_negatives: 630.0000 - val_false_positives: 3.0000 - val_false_negatives: 20.0000 - val_accuracy: 0.9673\n",
            "Epoch 35/100\n",
            "66/66 [==============================] - 1s 10ms/step - loss: 0.1009 - true_positives: 147.0000 - true_negatives: 1910.0000 - false_positives: 7.0000 - false_negatives: 45.0000 - accuracy: 0.9753 - val_loss: 0.1098 - val_true_positives: 50.0000 - val_true_negatives: 630.0000 - val_false_positives: 3.0000 - val_false_negatives: 20.0000 - val_accuracy: 0.9673\n",
            "Epoch 36/100\n",
            "66/66 [==============================] - 1s 9ms/step - loss: 0.0832 - true_positives: 153.0000 - true_negatives: 1911.0000 - false_positives: 6.0000 - false_negatives: 39.0000 - accuracy: 0.9787 - val_loss: 0.1034 - val_true_positives: 52.0000 - val_true_negatives: 629.0000 - val_false_positives: 4.0000 - val_false_negatives: 18.0000 - val_accuracy: 0.9687\n",
            "Epoch 37/100\n",
            "66/66 [==============================] - 1s 9ms/step - loss: 0.0842 - true_positives: 152.0000 - true_negatives: 1909.0000 - false_positives: 8.0000 - false_negatives: 40.0000 - accuracy: 0.9772 - val_loss: 0.1064 - val_true_positives: 51.0000 - val_true_negatives: 628.0000 - val_false_positives: 5.0000 - val_false_negatives: 19.0000 - val_accuracy: 0.9659\n",
            "Epoch 38/100\n",
            "66/66 [==============================] - 1s 9ms/step - loss: 0.0775 - true_positives: 153.0000 - true_negatives: 1912.0000 - false_positives: 5.0000 - false_negatives: 39.0000 - accuracy: 0.9791 - val_loss: 0.1087 - val_true_positives: 54.0000 - val_true_negatives: 627.0000 - val_false_positives: 6.0000 - val_false_negatives: 16.0000 - val_accuracy: 0.9687\n",
            "Epoch 39/100\n",
            "66/66 [==============================] - 1s 11ms/step - loss: 0.0829 - true_positives: 153.0000 - true_negatives: 1908.0000 - false_positives: 9.0000 - false_negatives: 39.0000 - accuracy: 0.9772 - val_loss: 0.1069 - val_true_positives: 55.0000 - val_true_negatives: 627.0000 - val_false_positives: 6.0000 - val_false_negatives: 15.0000 - val_accuracy: 0.9701\n",
            "Epoch 40/100\n",
            "66/66 [==============================] - 1s 10ms/step - loss: 0.0788 - true_positives: 155.0000 - true_negatives: 1911.0000 - false_positives: 6.0000 - false_negatives: 37.0000 - accuracy: 0.9796 - val_loss: 0.0993 - val_true_positives: 54.0000 - val_true_negatives: 628.0000 - val_false_positives: 5.0000 - val_false_negatives: 16.0000 - val_accuracy: 0.9701\n",
            "Epoch 41/100\n",
            "66/66 [==============================] - 1s 19ms/step - loss: 0.0763 - true_positives: 154.0000 - true_negatives: 1909.0000 - false_positives: 8.0000 - false_negatives: 38.0000 - accuracy: 0.9782 - val_loss: 0.1035 - val_true_positives: 49.0000 - val_true_negatives: 630.0000 - val_false_positives: 3.0000 - val_false_negatives: 21.0000 - val_accuracy: 0.9659\n",
            "Epoch 42/100\n",
            "66/66 [==============================] - 1s 9ms/step - loss: 0.0739 - true_positives: 155.0000 - true_negatives: 1910.0000 - false_positives: 7.0000 - false_negatives: 37.0000 - accuracy: 0.9791 - val_loss: 0.1010 - val_true_positives: 52.0000 - val_true_negatives: 630.0000 - val_false_positives: 3.0000 - val_false_negatives: 18.0000 - val_accuracy: 0.9701\n",
            "Epoch 43/100\n",
            "66/66 [==============================] - 1s 10ms/step - loss: 0.0729 - true_positives: 156.0000 - true_negatives: 1912.0000 - false_positives: 5.0000 - false_negatives: 36.0000 - accuracy: 0.9806 - val_loss: 0.0971 - val_true_positives: 52.0000 - val_true_negatives: 630.0000 - val_false_positives: 3.0000 - val_false_negatives: 18.0000 - val_accuracy: 0.9701\n",
            "Epoch 44/100\n",
            "66/66 [==============================] - 1s 9ms/step - loss: 0.0723 - true_positives: 154.0000 - true_negatives: 1913.0000 - false_positives: 4.0000 - false_negatives: 38.0000 - accuracy: 0.9801 - val_loss: 0.0939 - val_true_positives: 56.0000 - val_true_negatives: 627.0000 - val_false_positives: 6.0000 - val_false_negatives: 14.0000 - val_accuracy: 0.9716\n",
            "Epoch 45/100\n",
            "66/66 [==============================] - 1s 9ms/step - loss: 0.0722 - true_positives: 159.0000 - true_negatives: 1912.0000 - false_positives: 5.0000 - false_negatives: 33.0000 - accuracy: 0.9820 - val_loss: 0.1008 - val_true_positives: 52.0000 - val_true_negatives: 631.0000 - val_false_positives: 2.0000 - val_false_negatives: 18.0000 - val_accuracy: 0.9716\n",
            "Epoch 46/100\n",
            "66/66 [==============================] - 1s 9ms/step - loss: 0.0731 - true_positives: 155.0000 - true_negatives: 1913.0000 - false_positives: 4.0000 - false_negatives: 37.0000 - accuracy: 0.9806 - val_loss: 0.0948 - val_true_positives: 52.0000 - val_true_negatives: 630.0000 - val_false_positives: 3.0000 - val_false_negatives: 18.0000 - val_accuracy: 0.9701\n",
            "Epoch 47/100\n",
            "66/66 [==============================] - 1s 9ms/step - loss: 0.0744 - true_positives: 159.0000 - true_negatives: 1909.0000 - false_positives: 8.0000 - false_negatives: 33.0000 - accuracy: 0.9806 - val_loss: 0.0942 - val_true_positives: 55.0000 - val_true_negatives: 630.0000 - val_false_positives: 3.0000 - val_false_negatives: 15.0000 - val_accuracy: 0.9744\n",
            "Epoch 48/100\n",
            "66/66 [==============================] - 1s 9ms/step - loss: 0.0712 - true_positives: 156.0000 - true_negatives: 1910.0000 - false_positives: 7.0000 - false_negatives: 36.0000 - accuracy: 0.9796 - val_loss: 0.0947 - val_true_positives: 53.0000 - val_true_negatives: 630.0000 - val_false_positives: 3.0000 - val_false_negatives: 17.0000 - val_accuracy: 0.9716\n",
            "Epoch 49/100\n",
            "66/66 [==============================] - 1s 10ms/step - loss: 0.0690 - true_positives: 160.0000 - true_negatives: 1909.0000 - false_positives: 8.0000 - false_negatives: 32.0000 - accuracy: 0.9810 - val_loss: 0.0913 - val_true_positives: 53.0000 - val_true_negatives: 628.0000 - val_false_positives: 5.0000 - val_false_negatives: 17.0000 - val_accuracy: 0.9687\n",
            "Epoch 50/100\n",
            "66/66 [==============================] - 1s 9ms/step - loss: 0.0675 - true_positives: 159.0000 - true_negatives: 1910.0000 - false_positives: 7.0000 - false_negatives: 33.0000 - accuracy: 0.9810 - val_loss: 0.0957 - val_true_positives: 52.0000 - val_true_negatives: 629.0000 - val_false_positives: 4.0000 - val_false_negatives: 18.0000 - val_accuracy: 0.9687\n",
            "Epoch 51/100\n",
            "66/66 [==============================] - 1s 10ms/step - loss: 0.0699 - true_positives: 158.0000 - true_negatives: 1912.0000 - false_positives: 5.0000 - false_negatives: 34.0000 - accuracy: 0.9815 - val_loss: 0.0862 - val_true_positives: 55.0000 - val_true_negatives: 628.0000 - val_false_positives: 5.0000 - val_false_negatives: 15.0000 - val_accuracy: 0.9716\n",
            "Epoch 52/100\n",
            "66/66 [==============================] - 1s 9ms/step - loss: 0.0650 - true_positives: 158.0000 - true_negatives: 1913.0000 - false_positives: 4.0000 - false_negatives: 34.0000 - accuracy: 0.9820 - val_loss: 0.0892 - val_true_positives: 54.0000 - val_true_negatives: 630.0000 - val_false_positives: 3.0000 - val_false_negatives: 16.0000 - val_accuracy: 0.9730\n",
            "Epoch 53/100\n",
            "66/66 [==============================] - 1s 10ms/step - loss: 0.0642 - true_positives: 162.0000 - true_negatives: 1912.0000 - false_positives: 5.0000 - false_negatives: 30.0000 - accuracy: 0.9834 - val_loss: 0.0918 - val_true_positives: 53.0000 - val_true_negatives: 630.0000 - val_false_positives: 3.0000 - val_false_negatives: 17.0000 - val_accuracy: 0.9716\n",
            "Epoch 54/100\n",
            "66/66 [==============================] - 1s 10ms/step - loss: 0.0657 - true_positives: 158.0000 - true_negatives: 1910.0000 - false_positives: 7.0000 - false_negatives: 34.0000 - accuracy: 0.9806 - val_loss: 0.0951 - val_true_positives: 53.0000 - val_true_negatives: 630.0000 - val_false_positives: 3.0000 - val_false_negatives: 17.0000 - val_accuracy: 0.9716\n",
            "Epoch 55/100\n",
            "66/66 [==============================] - 1s 19ms/step - loss: 0.0643 - true_positives: 161.0000 - true_negatives: 1911.0000 - false_positives: 6.0000 - false_negatives: 31.0000 - accuracy: 0.9825 - val_loss: 0.0893 - val_true_positives: 53.0000 - val_true_negatives: 630.0000 - val_false_positives: 3.0000 - val_false_negatives: 17.0000 - val_accuracy: 0.9716\n",
            "Epoch 56/100\n",
            "66/66 [==============================] - 1s 18ms/step - loss: 0.0652 - true_positives: 160.0000 - true_negatives: 1913.0000 - false_positives: 4.0000 - false_negatives: 32.0000 - accuracy: 0.9829 - val_loss: 0.0866 - val_true_positives: 56.0000 - val_true_negatives: 627.0000 - val_false_positives: 6.0000 - val_false_negatives: 14.0000 - val_accuracy: 0.9716\n",
            "Epoch 57/100\n",
            "66/66 [==============================] - 1s 10ms/step - loss: 0.0641 - true_positives: 159.0000 - true_negatives: 1907.0000 - false_positives: 10.0000 - false_negatives: 33.0000 - accuracy: 0.9796 - val_loss: 0.1071 - val_true_positives: 52.0000 - val_true_negatives: 629.0000 - val_false_positives: 4.0000 - val_false_negatives: 18.0000 - val_accuracy: 0.9687\n",
            "Epoch 58/100\n",
            "66/66 [==============================] - 1s 9ms/step - loss: 0.0841 - true_positives: 156.0000 - true_negatives: 1905.0000 - false_positives: 12.0000 - false_negatives: 36.0000 - accuracy: 0.9772 - val_loss: 0.1147 - val_true_positives: 51.0000 - val_true_negatives: 630.0000 - val_false_positives: 3.0000 - val_false_negatives: 19.0000 - val_accuracy: 0.9687\n",
            "Epoch 59/100\n",
            "66/66 [==============================] - 1s 11ms/step - loss: 0.0688 - true_positives: 158.0000 - true_negatives: 1911.0000 - false_positives: 6.0000 - false_negatives: 34.0000 - accuracy: 0.9810 - val_loss: 0.0981 - val_true_positives: 55.0000 - val_true_negatives: 630.0000 - val_false_positives: 3.0000 - val_false_negatives: 15.0000 - val_accuracy: 0.9744\n",
            "Epoch 60/100\n",
            "66/66 [==============================] - 1s 9ms/step - loss: 0.0666 - true_positives: 160.0000 - true_negatives: 1911.0000 - false_positives: 6.0000 - false_negatives: 32.0000 - accuracy: 0.9820 - val_loss: 0.1013 - val_true_positives: 53.0000 - val_true_negatives: 630.0000 - val_false_positives: 3.0000 - val_false_negatives: 17.0000 - val_accuracy: 0.9716\n",
            "Epoch 61/100\n",
            "66/66 [==============================] - 1s 9ms/step - loss: 0.0602 - true_positives: 161.0000 - true_negatives: 1912.0000 - false_positives: 5.0000 - false_negatives: 31.0000 - accuracy: 0.9829 - val_loss: 0.1009 - val_true_positives: 58.0000 - val_true_negatives: 625.0000 - val_false_positives: 8.0000 - val_false_negatives: 12.0000 - val_accuracy: 0.9716\n",
            "Epoch 62/100\n",
            "66/66 [==============================] - 1s 9ms/step - loss: 0.0620 - true_positives: 164.0000 - true_negatives: 1912.0000 - false_positives: 5.0000 - false_negatives: 28.0000 - accuracy: 0.9844 - val_loss: 0.0935 - val_true_positives: 55.0000 - val_true_negatives: 630.0000 - val_false_positives: 3.0000 - val_false_negatives: 15.0000 - val_accuracy: 0.9744\n",
            "Epoch 63/100\n",
            "66/66 [==============================] - 1s 9ms/step - loss: 0.0585 - true_positives: 159.0000 - true_negatives: 1911.0000 - false_positives: 6.0000 - false_negatives: 33.0000 - accuracy: 0.9815 - val_loss: 0.0948 - val_true_positives: 54.0000 - val_true_negatives: 628.0000 - val_false_positives: 5.0000 - val_false_negatives: 16.0000 - val_accuracy: 0.9701\n",
            "Epoch 64/100\n",
            "66/66 [==============================] - 1s 10ms/step - loss: 0.0565 - true_positives: 164.0000 - true_negatives: 1913.0000 - false_positives: 4.0000 - false_negatives: 28.0000 - accuracy: 0.9848 - val_loss: 0.1027 - val_true_positives: 53.0000 - val_true_negatives: 630.0000 - val_false_positives: 3.0000 - val_false_negatives: 17.0000 - val_accuracy: 0.9716\n",
            "Epoch 65/100\n",
            "66/66 [==============================] - 1s 10ms/step - loss: 0.0632 - true_positives: 162.0000 - true_negatives: 1914.0000 - false_positives: 3.0000 - false_negatives: 30.0000 - accuracy: 0.9844 - val_loss: 0.0997 - val_true_positives: 56.0000 - val_true_negatives: 626.0000 - val_false_positives: 7.0000 - val_false_negatives: 14.0000 - val_accuracy: 0.9701\n",
            "Epoch 66/100\n",
            "66/66 [==============================] - 1s 9ms/step - loss: 0.0590 - true_positives: 163.0000 - true_negatives: 1910.0000 - false_positives: 7.0000 - false_negatives: 29.0000 - accuracy: 0.9829 - val_loss: 0.1057 - val_true_positives: 53.0000 - val_true_negatives: 630.0000 - val_false_positives: 3.0000 - val_false_negatives: 17.0000 - val_accuracy: 0.9716\n",
            "Epoch 67/100\n",
            "66/66 [==============================] - 1s 9ms/step - loss: 0.0599 - true_positives: 161.0000 - true_negatives: 1911.0000 - false_positives: 6.0000 - false_negatives: 31.0000 - accuracy: 0.9825 - val_loss: 0.0868 - val_true_positives: 56.0000 - val_true_negatives: 629.0000 - val_false_positives: 4.0000 - val_false_negatives: 14.0000 - val_accuracy: 0.9744\n",
            "Epoch 68/100\n",
            "66/66 [==============================] - 1s 10ms/step - loss: 0.0555 - true_positives: 162.0000 - true_negatives: 1912.0000 - false_positives: 5.0000 - false_negatives: 30.0000 - accuracy: 0.9834 - val_loss: 0.0861 - val_true_positives: 56.0000 - val_true_negatives: 628.0000 - val_false_positives: 5.0000 - val_false_negatives: 14.0000 - val_accuracy: 0.9730\n",
            "Epoch 69/100\n",
            "66/66 [==============================] - 1s 9ms/step - loss: 0.0577 - true_positives: 164.0000 - true_negatives: 1913.0000 - false_positives: 4.0000 - false_negatives: 28.0000 - accuracy: 0.9848 - val_loss: 0.0869 - val_true_positives: 55.0000 - val_true_negatives: 629.0000 - val_false_positives: 4.0000 - val_false_negatives: 15.0000 - val_accuracy: 0.9730\n",
            "Epoch 70/100\n",
            "66/66 [==============================] - 1s 9ms/step - loss: 0.0585 - true_positives: 165.0000 - true_negatives: 1909.0000 - false_positives: 8.0000 - false_negatives: 27.0000 - accuracy: 0.9834 - val_loss: 0.0964 - val_true_positives: 54.0000 - val_true_negatives: 630.0000 - val_false_positives: 3.0000 - val_false_negatives: 16.0000 - val_accuracy: 0.9730\n",
            "Epoch 71/100\n",
            "66/66 [==============================] - 1s 11ms/step - loss: 0.0553 - true_positives: 163.0000 - true_negatives: 1912.0000 - false_positives: 5.0000 - false_negatives: 29.0000 - accuracy: 0.9839 - val_loss: 0.1190 - val_true_positives: 60.0000 - val_true_negatives: 618.0000 - val_false_positives: 15.0000 - val_false_negatives: 10.0000 - val_accuracy: 0.9644\n",
            "Epoch 72/100\n",
            "66/66 [==============================] - 1s 10ms/step - loss: 0.0582 - true_positives: 165.0000 - true_negatives: 1906.0000 - false_positives: 11.0000 - false_negatives: 27.0000 - accuracy: 0.9820 - val_loss: 0.1035 - val_true_positives: 53.0000 - val_true_negatives: 632.0000 - val_false_positives: 1.0000 - val_false_negatives: 17.0000 - val_accuracy: 0.9744\n",
            "Epoch 73/100\n",
            "66/66 [==============================] - 1s 10ms/step - loss: 0.0589 - true_positives: 160.0000 - true_negatives: 1912.0000 - false_positives: 5.0000 - false_negatives: 32.0000 - accuracy: 0.9825 - val_loss: 0.0887 - val_true_positives: 55.0000 - val_true_negatives: 627.0000 - val_false_positives: 6.0000 - val_false_negatives: 15.0000 - val_accuracy: 0.9701\n",
            "Epoch 74/100\n",
            "66/66 [==============================] - 1s 9ms/step - loss: 0.0567 - true_positives: 164.0000 - true_negatives: 1908.0000 - false_positives: 9.0000 - false_negatives: 28.0000 - accuracy: 0.9825 - val_loss: 0.0824 - val_true_positives: 55.0000 - val_true_negatives: 630.0000 - val_false_positives: 3.0000 - val_false_negatives: 15.0000 - val_accuracy: 0.9744\n",
            "Epoch 75/100\n",
            "66/66 [==============================] - 1s 9ms/step - loss: 0.0594 - true_positives: 159.0000 - true_negatives: 1907.0000 - false_positives: 10.0000 - false_negatives: 33.0000 - accuracy: 0.9796 - val_loss: 0.0784 - val_true_positives: 55.0000 - val_true_negatives: 629.0000 - val_false_positives: 4.0000 - val_false_negatives: 15.0000 - val_accuracy: 0.9730\n",
            "Epoch 76/100\n",
            "66/66 [==============================] - 1s 9ms/step - loss: 0.0525 - true_positives: 167.0000 - true_negatives: 1912.0000 - false_positives: 5.0000 - false_negatives: 25.0000 - accuracy: 0.9858 - val_loss: 0.0814 - val_true_positives: 56.0000 - val_true_negatives: 630.0000 - val_false_positives: 3.0000 - val_false_negatives: 14.0000 - val_accuracy: 0.9758\n",
            "Epoch 77/100\n",
            "66/66 [==============================] - 1s 11ms/step - loss: 0.0530 - true_positives: 165.0000 - true_negatives: 1910.0000 - false_positives: 7.0000 - false_negatives: 27.0000 - accuracy: 0.9839 - val_loss: 0.0886 - val_true_positives: 52.0000 - val_true_negatives: 631.0000 - val_false_positives: 2.0000 - val_false_negatives: 18.0000 - val_accuracy: 0.9716\n",
            "Epoch 78/100\n",
            "66/66 [==============================] - 1s 9ms/step - loss: 0.0532 - true_positives: 165.0000 - true_negatives: 1912.0000 - false_positives: 5.0000 - false_negatives: 27.0000 - accuracy: 0.9848 - val_loss: 0.0780 - val_true_positives: 56.0000 - val_true_negatives: 630.0000 - val_false_positives: 3.0000 - val_false_negatives: 14.0000 - val_accuracy: 0.9758\n",
            "Epoch 79/100\n",
            "66/66 [==============================] - 1s 10ms/step - loss: 0.0486 - true_positives: 166.0000 - true_negatives: 1913.0000 - false_positives: 4.0000 - false_negatives: 26.0000 - accuracy: 0.9858 - val_loss: 0.0835 - val_true_positives: 56.0000 - val_true_negatives: 629.0000 - val_false_positives: 4.0000 - val_false_negatives: 14.0000 - val_accuracy: 0.9744\n",
            "Epoch 80/100\n",
            "66/66 [==============================] - 1s 10ms/step - loss: 0.0542 - true_positives: 165.0000 - true_negatives: 1912.0000 - false_positives: 5.0000 - false_negatives: 27.0000 - accuracy: 0.9848 - val_loss: 0.0793 - val_true_positives: 55.0000 - val_true_negatives: 631.0000 - val_false_positives: 2.0000 - val_false_negatives: 15.0000 - val_accuracy: 0.9758\n",
            "Epoch 81/100\n",
            "66/66 [==============================] - 1s 10ms/step - loss: 0.0528 - true_positives: 168.0000 - true_negatives: 1910.0000 - false_positives: 7.0000 - false_negatives: 24.0000 - accuracy: 0.9853 - val_loss: 0.1118 - val_true_positives: 57.0000 - val_true_negatives: 619.0000 - val_false_positives: 14.0000 - val_false_negatives: 13.0000 - val_accuracy: 0.9616\n",
            "Epoch 82/100\n",
            "66/66 [==============================] - 1s 9ms/step - loss: 0.0631 - true_positives: 162.0000 - true_negatives: 1909.0000 - false_positives: 8.0000 - false_negatives: 30.0000 - accuracy: 0.9820 - val_loss: 0.0830 - val_true_positives: 56.0000 - val_true_negatives: 631.0000 - val_false_positives: 2.0000 - val_false_negatives: 14.0000 - val_accuracy: 0.9772\n",
            "Epoch 83/100\n",
            "66/66 [==============================] - 1s 10ms/step - loss: 0.0520 - true_positives: 165.0000 - true_negatives: 1913.0000 - false_positives: 4.0000 - false_negatives: 27.0000 - accuracy: 0.9853 - val_loss: 0.0860 - val_true_positives: 55.0000 - val_true_negatives: 630.0000 - val_false_positives: 3.0000 - val_false_negatives: 15.0000 - val_accuracy: 0.9744\n",
            "Epoch 84/100\n",
            "66/66 [==============================] - 1s 10ms/step - loss: 0.0497 - true_positives: 166.0000 - true_negatives: 1915.0000 - false_positives: 2.0000 - false_negatives: 26.0000 - accuracy: 0.9867 - val_loss: 0.0828 - val_true_positives: 56.0000 - val_true_negatives: 628.0000 - val_false_positives: 5.0000 - val_false_negatives: 14.0000 - val_accuracy: 0.9730\n",
            "Epoch 85/100\n",
            "66/66 [==============================] - 1s 10ms/step - loss: 0.0485 - true_positives: 166.0000 - true_negatives: 1911.0000 - false_positives: 6.0000 - false_negatives: 26.0000 - accuracy: 0.9848 - val_loss: 0.0833 - val_true_positives: 55.0000 - val_true_negatives: 630.0000 - val_false_positives: 3.0000 - val_false_negatives: 15.0000 - val_accuracy: 0.9744\n",
            "Epoch 86/100\n",
            "66/66 [==============================] - 1s 10ms/step - loss: 0.0480 - true_positives: 167.0000 - true_negatives: 1909.0000 - false_positives: 8.0000 - false_negatives: 25.0000 - accuracy: 0.9844 - val_loss: 0.0805 - val_true_positives: 55.0000 - val_true_negatives: 629.0000 - val_false_positives: 4.0000 - val_false_negatives: 15.0000 - val_accuracy: 0.9730\n",
            "Epoch 87/100\n",
            "66/66 [==============================] - 1s 11ms/step - loss: 0.0512 - true_positives: 166.0000 - true_negatives: 1911.0000 - false_positives: 6.0000 - false_negatives: 26.0000 - accuracy: 0.9848 - val_loss: 0.0822 - val_true_positives: 56.0000 - val_true_negatives: 629.0000 - val_false_positives: 4.0000 - val_false_negatives: 14.0000 - val_accuracy: 0.9744\n",
            "Epoch 88/100\n",
            "66/66 [==============================] - 1s 11ms/step - loss: 0.0486 - true_positives: 168.0000 - true_negatives: 1912.0000 - false_positives: 5.0000 - false_negatives: 24.0000 - accuracy: 0.9862 - val_loss: 0.0898 - val_true_positives: 55.0000 - val_true_negatives: 631.0000 - val_false_positives: 2.0000 - val_false_negatives: 15.0000 - val_accuracy: 0.9758\n",
            "Epoch 89/100\n",
            "66/66 [==============================] - 1s 9ms/step - loss: 0.0488 - true_positives: 168.0000 - true_negatives: 1911.0000 - false_positives: 6.0000 - false_negatives: 24.0000 - accuracy: 0.9858 - val_loss: 0.0772 - val_true_positives: 58.0000 - val_true_negatives: 627.0000 - val_false_positives: 6.0000 - val_false_negatives: 12.0000 - val_accuracy: 0.9744\n",
            "Epoch 90/100\n",
            "66/66 [==============================] - 1s 10ms/step - loss: 0.0468 - true_positives: 167.0000 - true_negatives: 1913.0000 - false_positives: 4.0000 - false_negatives: 25.0000 - accuracy: 0.9862 - val_loss: 0.0795 - val_true_positives: 57.0000 - val_true_negatives: 629.0000 - val_false_positives: 4.0000 - val_false_negatives: 13.0000 - val_accuracy: 0.9758\n",
            "Epoch 91/100\n",
            "66/66 [==============================] - 1s 10ms/step - loss: 0.0470 - true_positives: 169.0000 - true_negatives: 1911.0000 - false_positives: 6.0000 - false_negatives: 23.0000 - accuracy: 0.9862 - val_loss: 0.0767 - val_true_positives: 57.0000 - val_true_negatives: 630.0000 - val_false_positives: 3.0000 - val_false_negatives: 13.0000 - val_accuracy: 0.9772\n",
            "Epoch 92/100\n",
            "66/66 [==============================] - 1s 10ms/step - loss: 0.0553 - true_positives: 165.0000 - true_negatives: 1912.0000 - false_positives: 5.0000 - false_negatives: 27.0000 - accuracy: 0.9848 - val_loss: 0.0866 - val_true_positives: 53.0000 - val_true_negatives: 629.0000 - val_false_positives: 4.0000 - val_false_negatives: 17.0000 - val_accuracy: 0.9701\n",
            "Epoch 93/100\n",
            "66/66 [==============================] - 1s 11ms/step - loss: 0.0526 - true_positives: 165.0000 - true_negatives: 1911.0000 - false_positives: 6.0000 - false_negatives: 27.0000 - accuracy: 0.9844 - val_loss: 0.0767 - val_true_positives: 56.0000 - val_true_negatives: 630.0000 - val_false_positives: 3.0000 - val_false_negatives: 14.0000 - val_accuracy: 0.9758\n",
            "Epoch 94/100\n",
            "66/66 [==============================] - 1s 10ms/step - loss: 0.0509 - true_positives: 164.0000 - true_negatives: 1908.0000 - false_positives: 9.0000 - false_negatives: 28.0000 - accuracy: 0.9825 - val_loss: 0.0794 - val_true_positives: 55.0000 - val_true_negatives: 630.0000 - val_false_positives: 3.0000 - val_false_negatives: 15.0000 - val_accuracy: 0.9744\n",
            "Epoch 95/100\n",
            "66/66 [==============================] - 1s 12ms/step - loss: 0.0513 - true_positives: 162.0000 - true_negatives: 1915.0000 - false_positives: 2.0000 - false_negatives: 30.0000 - accuracy: 0.9848 - val_loss: 0.0824 - val_true_positives: 57.0000 - val_true_negatives: 626.0000 - val_false_positives: 7.0000 - val_false_negatives: 13.0000 - val_accuracy: 0.9716\n",
            "Epoch 96/100\n",
            "66/66 [==============================] - 1s 10ms/step - loss: 0.0468 - true_positives: 166.0000 - true_negatives: 1912.0000 - false_positives: 5.0000 - false_negatives: 26.0000 - accuracy: 0.9853 - val_loss: 0.0761 - val_true_positives: 56.0000 - val_true_negatives: 628.0000 - val_false_positives: 5.0000 - val_false_negatives: 14.0000 - val_accuracy: 0.9730\n",
            "Epoch 97/100\n",
            "66/66 [==============================] - 1s 9ms/step - loss: 0.0463 - true_positives: 169.0000 - true_negatives: 1914.0000 - false_positives: 3.0000 - false_negatives: 23.0000 - accuracy: 0.9877 - val_loss: 0.0807 - val_true_positives: 60.0000 - val_true_negatives: 625.0000 - val_false_positives: 8.0000 - val_false_negatives: 10.0000 - val_accuracy: 0.9744\n",
            "Epoch 98/100\n",
            "66/66 [==============================] - 1s 10ms/step - loss: 0.0466 - true_positives: 167.0000 - true_negatives: 1911.0000 - false_positives: 6.0000 - false_negatives: 25.0000 - accuracy: 0.9853 - val_loss: 0.0815 - val_true_positives: 58.0000 - val_true_negatives: 627.0000 - val_false_positives: 6.0000 - val_false_negatives: 12.0000 - val_accuracy: 0.9744\n",
            "Epoch 99/100\n",
            "66/66 [==============================] - 1s 11ms/step - loss: 0.0436 - true_positives: 169.0000 - true_negatives: 1914.0000 - false_positives: 3.0000 - false_negatives: 23.0000 - accuracy: 0.9877 - val_loss: 0.0774 - val_true_positives: 58.0000 - val_true_negatives: 626.0000 - val_false_positives: 7.0000 - val_false_negatives: 12.0000 - val_accuracy: 0.9730\n",
            "Epoch 100/100\n",
            "66/66 [==============================] - 1s 10ms/step - loss: 0.0490 - true_positives: 169.0000 - true_negatives: 1908.0000 - false_positives: 9.0000 - false_negatives: 23.0000 - accuracy: 0.9848 - val_loss: 0.0741 - val_true_positives: 58.0000 - val_true_negatives: 629.0000 - val_false_positives: 4.0000 - val_false_negatives: 12.0000 - val_accuracy: 0.9772\n",
            "Training time: 85.70843482017517s\n"
          ]
        }
      ]
    },
    {
      "cell_type": "code",
      "source": [
        "start = time.time()\n",
        "pred = lstm.predict(X_test)\n",
        "stop = time.time()\n",
        "print(f\"Training time: {stop - start}s\")"
      ],
      "metadata": {
        "colab": {
          "base_uri": "https://localhost:8080/"
        },
        "id": "UQeSwjgGF2Ax",
        "outputId": "c8aecaf9-8d64-4385-dbfb-f63a396e56ed"
      },
      "execution_count": 29,
      "outputs": [
        {
          "output_type": "stream",
          "name": "stdout",
          "text": [
            "Training time: 0.4152495861053467s\n"
          ]
        }
      ]
    },
    {
      "cell_type": "code",
      "source": [
        "pred.shape"
      ],
      "metadata": {
        "colab": {
          "base_uri": "https://localhost:8080/"
        },
        "id": "QNzna3YMGKKJ",
        "outputId": "d1ad334c-6c7d-4cd9-f443-30e179e65ef1"
      },
      "execution_count": 30,
      "outputs": [
        {
          "output_type": "execute_result",
          "data": {
            "text/plain": [
              "(703, 1)"
            ]
          },
          "metadata": {},
          "execution_count": 30
        }
      ]
    },
    {
      "cell_type": "code",
      "source": [
        "for i in range(len(pred)):\n",
        "    if pred[i] <0.5:\n",
        "        pred[i]=0\n",
        "    else:\n",
        "        pred[i]=1"
      ],
      "metadata": {
        "id": "qAEQm93SGP-A"
      },
      "execution_count": 31,
      "outputs": []
    },
    {
      "cell_type": "code",
      "source": [
        "from sklearn.metrics import confusion_matrix, accuracy_score\n",
        "cm = confusion_matrix(y_test, pred)\n",
        "print(cm)\n",
        "accuracy_score(y_test, pred)"
      ],
      "metadata": {
        "colab": {
          "base_uri": "https://localhost:8080/"
        },
        "id": "WH3ZFaAIGtHv",
        "outputId": "a74b0dcf-7d5d-40a5-fe26-5ffd86aeb3c5"
      },
      "execution_count": 32,
      "outputs": [
        {
          "output_type": "stream",
          "name": "stdout",
          "text": [
            "[[629   4]\n",
            " [ 12  58]]\n"
          ]
        },
        {
          "output_type": "execute_result",
          "data": {
            "text/plain": [
              "0.9772403982930299"
            ]
          },
          "metadata": {},
          "execution_count": 32
        }
      ]
    },
    {
      "cell_type": "code",
      "source": [
        "plt.figure(figsize = (20,12))\n",
        "plt.boxplt(range(703),pred,c='r')\n",
        "plt.line(range(703),y_test,c='b')\n",
        "plt.show()"
      ],
      "metadata": {
        "colab": {
          "base_uri": "https://localhost:8080/",
          "height": 234
        },
        "id": "PuBOIU2LGu0P",
        "outputId": "918af7f6-8bec-4747-e1e5-05a044014fb0"
      },
      "execution_count": 34,
      "outputs": [
        {
          "output_type": "error",
          "ename": "TypeError",
          "evalue": "ignored",
          "traceback": [
            "\u001b[0;31m---------------------------------------------------------------------------\u001b[0m",
            "\u001b[0;31mTypeError\u001b[0m                                 Traceback (most recent call last)",
            "\u001b[0;32m<ipython-input-34-40e44336d94d>\u001b[0m in \u001b[0;36m<module>\u001b[0;34m()\u001b[0m\n\u001b[1;32m      1\u001b[0m \u001b[0mplt\u001b[0m\u001b[0;34m.\u001b[0m\u001b[0mfigure\u001b[0m\u001b[0;34m(\u001b[0m\u001b[0mfigsize\u001b[0m \u001b[0;34m=\u001b[0m \u001b[0;34m(\u001b[0m\u001b[0;36m20\u001b[0m\u001b[0;34m,\u001b[0m\u001b[0;36m12\u001b[0m\u001b[0;34m)\u001b[0m\u001b[0;34m)\u001b[0m\u001b[0;34m\u001b[0m\u001b[0;34m\u001b[0m\u001b[0m\n\u001b[0;32m----> 2\u001b[0;31m \u001b[0mplt\u001b[0m\u001b[0;34m.\u001b[0m\u001b[0mboxplot\u001b[0m\u001b[0;34m(\u001b[0m\u001b[0mrange\u001b[0m\u001b[0;34m(\u001b[0m\u001b[0;36m703\u001b[0m\u001b[0;34m)\u001b[0m\u001b[0;34m,\u001b[0m\u001b[0mpred\u001b[0m\u001b[0;34m,\u001b[0m\u001b[0mc\u001b[0m\u001b[0;34m=\u001b[0m\u001b[0;34m'r'\u001b[0m\u001b[0;34m)\u001b[0m\u001b[0;34m\u001b[0m\u001b[0;34m\u001b[0m\u001b[0m\n\u001b[0m\u001b[1;32m      3\u001b[0m \u001b[0mplt\u001b[0m\u001b[0;34m.\u001b[0m\u001b[0mline\u001b[0m\u001b[0;34m(\u001b[0m\u001b[0mrange\u001b[0m\u001b[0;34m(\u001b[0m\u001b[0;36m703\u001b[0m\u001b[0;34m)\u001b[0m\u001b[0;34m,\u001b[0m\u001b[0my_test\u001b[0m\u001b[0;34m,\u001b[0m\u001b[0mc\u001b[0m\u001b[0;34m=\u001b[0m\u001b[0;34m'b'\u001b[0m\u001b[0;34m)\u001b[0m\u001b[0;34m\u001b[0m\u001b[0;34m\u001b[0m\u001b[0m\n\u001b[1;32m      4\u001b[0m \u001b[0mplt\u001b[0m\u001b[0;34m.\u001b[0m\u001b[0mshow\u001b[0m\u001b[0;34m(\u001b[0m\u001b[0;34m)\u001b[0m\u001b[0;34m\u001b[0m\u001b[0;34m\u001b[0m\u001b[0m\n",
            "\u001b[0;31mTypeError\u001b[0m: boxplot() got an unexpected keyword argument 'c'"
          ]
        },
        {
          "output_type": "display_data",
          "data": {
            "text/plain": [
              "<Figure size 1440x864 with 0 Axes>"
            ]
          },
          "metadata": {}
        }
      ]
    },
    {
      "cell_type": "code",
      "source": [
        "cohen_kappa_score(y_test,pred)"
      ],
      "metadata": {
        "colab": {
          "base_uri": "https://localhost:8080/"
        },
        "id": "cADzg6yaG3ys",
        "outputId": "f6e9bbab-4bca-4320-e131-269a1d700ec3"
      },
      "execution_count": 35,
      "outputs": [
        {
          "output_type": "execute_result",
          "data": {
            "text/plain": [
              "0.8662798991868372"
            ]
          },
          "metadata": {},
          "execution_count": 35
        }
      ]
    },
    {
      "cell_type": "code",
      "source": [
        "train_loss = his.history['loss']\n",
        "test_loss = his.history['val_loss']"
      ],
      "metadata": {
        "id": "ysiqFgyjG9rQ"
      },
      "execution_count": 36,
      "outputs": []
    },
    {
      "cell_type": "code",
      "source": [
        "epoch_count = range(1, len(train_loss) + 1)"
      ],
      "metadata": {
        "id": "OyLcLOI8HEoc"
      },
      "execution_count": 37,
      "outputs": []
    },
    {
      "cell_type": "code",
      "source": [
        "plt.figure(figsize = (20,12))\n",
        "plt.plot(epoch_count, train_loss, 'r--')\n",
        "plt.plot(epoch_count, test_loss, 'b-')\n",
        "plt.legend(['Training Loss', 'Test Loss'])\n",
        "plt.xlabel('Epoch')\n",
        "plt.ylabel('Loss')\n",
        "plt.savefig('Epoch_loss.png')\n",
        "plt.show();\n"
      ],
      "metadata": {
        "colab": {
          "base_uri": "https://localhost:8080/",
          "height": 714
        },
        "id": "gql8MqeIHH8x",
        "outputId": "c50a55e0-4bef-4df5-e5b4-63ad8d943de9"
      },
      "execution_count": 38,
      "outputs": [
        {
          "output_type": "display_data",
          "data": {
            "image/png": "[encoded data removed]",
            "text/plain": [
              "<Figure size 1440x864 with 1 Axes>"
            ]
          },
          "metadata": {
            "needs_background": "light"
          }
        }
      ]
    },
    {
      "cell_type": "code",
      "source": [
        "acc_loss = his.history['accuracy']\n",
        "test_acc_loss = his.history['val_accuracy']"
      ],
      "metadata": {
        "id": "75F_NEQHHLYI"
      },
      "execution_count": 39,
      "outputs": []
    },
    {
      "cell_type": "code",
      "source": [
        "plt.figure(figsize = (20,12))\n",
        "plt.plot(epoch_count, acc_loss, 'r--')\n",
        "plt.plot(epoch_count, test_acc_loss, 'b-')\n",
        "plt.legend(['Training Loss', 'Test Loss'])\n",
        "plt.xlabel('Epoch')\n",
        "plt.ylabel('Loss')\n",
        "plt.show();"
      ],
      "metadata": {
        "id": "5R6aDaJGIb6j"
      },
      "execution_count": null,
      "outputs": []
    },
    {
      "cell_type": "code",
      "source": [
        ""
      ],
      "metadata": {
        "id": "dYYuOUVDIe9N"
      },
      "execution_count": null,
      "outputs": []
    }
  ]
}