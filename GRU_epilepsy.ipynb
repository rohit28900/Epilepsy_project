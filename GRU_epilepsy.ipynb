{
  "nbformat": 4,
  "nbformat_minor": 0,
  "metadata": {
    "colab": {
      "name": "GRU_epilepsy.ipynb",
      "provenance": [],
      "collapsed_sections": [],
      "machine_shape": "hm",
      "mount_file_id": "1SDOhugJ4TiAeueJ-rIP0ZB0N0M-s3R5J",
      "authorship_tag": "ABX9TyM6cQP9MdploKUsD7K7JmhM",
      "include_colab_link": true
    },
    "kernelspec": {
      "name": "python3",
      "display_name": "Python 3"
    },
    "language_info": {
      "name": "python"
    }
  },
  "cells": [
    {
      "cell_type": "markdown",
      "metadata": {
        "id": "view-in-github",
        "colab_type": "text"
      },
      "source": [
        "<a href=\"https://colab.research.google.com/github/rohit28900/Epilepsy_project/blob/main/GRU_epilepsy.ipynb\" target=\"_parent\"><img src=\"https://colab.research.google.com/assets/colab-badge.svg\" alt=\"Open In Colab\"/></a>"
      ]
    },
    {
      "cell_type": "code",
      "execution_count": null,
      "metadata": {
        "id": "6BobHeqYAK8D"
      },
      "outputs": [],
      "source": [
        "import pandas as pd\n",
        "import matplotlib.pyplot as plt\n",
        "import numpy as np\n",
        "import tensorflow as tf\n",
        "from sklearn.metrics import cohen_kappa_score\n",
        "from keras.layers import Dropout\n",
        "import time\n",
        "import pandas as pd\n",
        "import numpy as np\n",
        "import matplotlib.pyplot as plt\n",
        "from tensorflow import keras\n",
        "from keras.layers import Dropout\n",
        "from keras.layers import LeakyReLU\n",
        "from sklearn.metrics import confusion_matrix, accuracy_score\n",
        "from sklearn.metrics import precision_score\n",
        "from sklearn.metrics import recall_score\n",
        "from sklearn.metrics import f1_score\n",
        "from sklearn.metrics import cohen_kappa_score\n",
        "from sklearn.metrics import roc_auc_score\n",
        "from sklearn.metrics import confusion_matrix"
      ]
    },
    {
      "cell_type": "code",
      "source": [
        "df = pd.read_csv('/content/drive/MyDrive/Rohit Data Set/data_comp.csv')"
      ],
      "metadata": {
        "id": "QdOnaR4-GUPI"
      },
      "execution_count": null,
      "outputs": []
    },
    {
      "cell_type": "code",
      "source": [
        "df.head()"
      ],
      "metadata": {
        "id": "8ViPF6sG5i0o"
      },
      "execution_count": null,
      "outputs": []
    },
    {
      "cell_type": "code",
      "source": [
        "df.rename(columns = {'Time':'Time(sec)'}, inplace = True)"
      ],
      "metadata": {
        "id": "5KkRVCu0fppl"
      },
      "execution_count": null,
      "outputs": []
    },
    {
      "cell_type": "code",
      "source": [
        "df.head()"
      ],
      "metadata": {
        "id": "EWA9bFF2gWIf"
      },
      "execution_count": null,
      "outputs": []
    },
    {
      "cell_type": "code",
      "source": [
        "#len(df['Time(sec)'])\n",
        "time=list(range(0, 91030, 10))\n",
        "time=pd.DataFrame(time,columns =['Time(sec)'])"
      ],
      "metadata": {
        "id": "qyDhGijvhjDD"
      },
      "execution_count": null,
      "outputs": []
    },
    {
      "cell_type": "code",
      "source": [
        "time.head()"
      ],
      "metadata": {
        "colab": {
          "base_uri": "https://localhost:8080/",
          "height": 206
        },
        "id": "k3DMa3IDmK7h",
        "outputId": "3c2ec2b1-3935-4129-9d0d-682a3901bda7"
      },
      "execution_count": null,
      "outputs": [
        {
          "output_type": "execute_result",
          "data": {
            "text/plain": [
              "   Time(sec)\n",
              "0          0\n",
              "1         10\n",
              "2         20\n",
              "3         30\n",
              "4         40"
            ],
            "text/html": [
              "\n",
              "  <div id=\"df-369712b4-4527-43f3-b110-c817dd9a35fe\">\n",
              "    <div class=\"colab-df-container\">\n",
              "      <div>\n",
              "<style scoped>\n",
              "    .dataframe tbody tr th:only-of-type {\n",
              "        vertical-align: middle;\n",
              "    }\n",
              "\n",
              "    .dataframe tbody tr th {\n",
              "        vertical-align: top;\n",
              "    }\n",
              "\n",
              "    .dataframe thead th {\n",
              "        text-align: right;\n",
              "    }\n",
              "</style>\n",
              "<table border=\"1\" class=\"dataframe\">\n",
              "  <thead>\n",
              "    <tr style=\"text-align: right;\">\n",
              "      <th></th>\n",
              "      <th>Time(sec)</th>\n",
              "    </tr>\n",
              "  </thead>\n",
              "  <tbody>\n",
              "    <tr>\n",
              "      <th>0</th>\n",
              "      <td>0</td>\n",
              "    </tr>\n",
              "    <tr>\n",
              "      <th>1</th>\n",
              "      <td>10</td>\n",
              "    </tr>\n",
              "    <tr>\n",
              "      <th>2</th>\n",
              "      <td>20</td>\n",
              "    </tr>\n",
              "    <tr>\n",
              "      <th>3</th>\n",
              "      <td>30</td>\n",
              "    </tr>\n",
              "    <tr>\n",
              "      <th>4</th>\n",
              "      <td>40</td>\n",
              "    </tr>\n",
              "  </tbody>\n",
              "</table>\n",
              "</div>\n",
              "      <button class=\"colab-df-convert\" onclick=\"convertToInteractive('df-369712b4-4527-43f3-b110-c817dd9a35fe')\"\n",
              "              title=\"Convert this dataframe to an interactive table.\"\n",
              "              style=\"display:none;\">\n",
              "        \n",
              "  <svg xmlns=\"http://www.w3.org/2000/svg\" height=\"24px\"viewBox=\"0 0 24 24\"\n",
              "       width=\"24px\">\n",
              "    <path d=\"M0 0h24v24H0V0z\" fill=\"none\"/>\n",
              "    <path d=\"M18.56 5.44l.94 2.06.94-2.06 2.06-.94-2.06-.94-.94-2.06-.94 2.06-2.06.94zm-11 1L8.5 8.5l.94-2.06 2.06-.94-2.06-.94L8.5 2.5l-.94 2.06-2.06.94zm10 10l.94 2.06.94-2.06 2.06-.94-2.06-.94-.94-2.06-.94 2.06-2.06.94z\"/><path d=\"M17.41 7.96l-1.37-1.37c-.4-.4-.92-.59-1.43-.59-.52 0-1.04.2-1.43.59L10.3 9.45l-7.72 7.72c-.78.78-.78 2.05 0 2.83L4 21.41c.39.39.9.59 1.41.59.51 0 1.02-.2 1.41-.59l7.78-7.78 2.81-2.81c.8-.78.8-2.07 0-2.86zM5.41 20L4 18.59l7.72-7.72 1.47 1.35L5.41 20z\"/>\n",
              "  </svg>\n",
              "      </button>\n",
              "      \n",
              "  <style>\n",
              "    .colab-df-container {\n",
              "      display:flex;\n",
              "      flex-wrap:wrap;\n",
              "      gap: 12px;\n",
              "    }\n",
              "\n",
              "    .colab-df-convert {\n",
              "      background-color: #E8F0FE;\n",
              "      border: none;\n",
              "      border-radius: 50%;\n",
              "      cursor: pointer;\n",
              "      display: none;\n",
              "      fill: #1967D2;\n",
              "      height: 32px;\n",
              "      padding: 0 0 0 0;\n",
              "      width: 32px;\n",
              "    }\n",
              "\n",
              "    .colab-df-convert:hover {\n",
              "      background-color: #E2EBFA;\n",
              "      box-shadow: 0px 1px 2px rgba(60, 64, 67, 0.3), 0px 1px 3px 1px rgba(60, 64, 67, 0.15);\n",
              "      fill: #174EA6;\n",
              "    }\n",
              "\n",
              "    [theme=dark] .colab-df-convert {\n",
              "      background-color: #3B4455;\n",
              "      fill: #D2E3FC;\n",
              "    }\n",
              "\n",
              "    [theme=dark] .colab-df-convert:hover {\n",
              "      background-color: #434B5C;\n",
              "      box-shadow: 0px 1px 3px 1px rgba(0, 0, 0, 0.15);\n",
              "      filter: drop-shadow(0px 1px 2px rgba(0, 0, 0, 0.3));\n",
              "      fill: #FFFFFF;\n",
              "    }\n",
              "  </style>\n",
              "\n",
              "      <script>\n",
              "        const buttonEl =\n",
              "          document.querySelector('#df-369712b4-4527-43f3-b110-c817dd9a35fe button.colab-df-convert');\n",
              "        buttonEl.style.display =\n",
              "          google.colab.kernel.accessAllowed ? 'block' : 'none';\n",
              "\n",
              "        async function convertToInteractive(key) {\n",
              "          const element = document.querySelector('#df-369712b4-4527-43f3-b110-c817dd9a35fe');\n",
              "          const dataTable =\n",
              "            await google.colab.kernel.invokeFunction('convertToInteractive',\n",
              "                                                     [key], {});\n",
              "          if (!dataTable) return;\n",
              "\n",
              "          const docLinkHtml = 'Like what you see? Visit the ' +\n",
              "            '<a target=\"_blank\" href=https://colab.research.google.com/notebooks/data_table.ipynb>data table notebook</a>'\n",
              "            + ' to learn more about interactive tables.';\n",
              "          element.innerHTML = '';\n",
              "          dataTable['output_type'] = 'display_data';\n",
              "          await google.colab.output.renderOutput(dataTable, element);\n",
              "          const docLink = document.createElement('div');\n",
              "          docLink.innerHTML = docLinkHtml;\n",
              "          element.appendChild(docLink);\n",
              "        }\n",
              "      </script>\n",
              "    </div>\n",
              "  </div>\n",
              "  "
            ]
          },
          "metadata": {},
          "execution_count": 59
        }
      ]
    },
    {
      "cell_type": "code",
      "source": [
        "df['Unnamed: 0'] = time['Time(sec)']"
      ],
      "metadata": {
        "id": "D7oX9bw3k05-"
      },
      "execution_count": null,
      "outputs": []
    },
    {
      "cell_type": "code",
      "source": [
        "df.head()"
      ],
      "metadata": {
        "colab": {
          "base_uri": "https://localhost:8080/",
          "height": 287
        },
        "id": "sc38O5lqmXAL",
        "outputId": "f8cf9bb7-6dac-4e2c-a39f-33017d79b0c6"
      },
      "execution_count": null,
      "outputs": [
        {
          "output_type": "execute_result",
          "data": {
            "text/plain": [
              "   Unnamed: 0  Epoch      Mean    Median    Varience  Kurtosis  Skewness  \\\n",
              "0           0      0  0.315702  0.195360  293.709609  0.650111  0.244237   \n",
              "1          10      1 -0.477460 -0.195360  211.184635  0.006100 -0.011966   \n",
              "2          20      2  0.660943  0.586081  266.924705  0.169350 -0.003543   \n",
              "3          30      3  0.131595  0.586081  273.405297 -0.301960 -0.115292   \n",
              "4          40      4  0.348210  0.976801  227.138812  0.494540 -0.034210   \n",
              "\n",
              "        Power   Entropy  Spectral_entropy  Zero_Crossing      Hust       Pfd  \\\n",
              "0  243.584979  0.965375          0.563809            220  0.558105  1.017736   \n",
              "1  188.543474  1.096501          0.615209            286  0.712594  1.017939   \n",
              "2  261.199724  0.932692          0.571226            232  0.557736  1.016307   \n",
              "3  254.919126  0.905237          0.545947            165  0.586204  1.015971   \n",
              "4  213.185964  0.929569          0.542437            206  0.606963  1.015467   \n",
              "\n",
              "   Mobility  Complexity  label  Label_P  \n",
              "0  0.271387    4.215109      0        0  \n",
              "1  0.332927    3.452487      0        0  \n",
              "2  0.279366    3.739299      0        0  \n",
              "3  0.261617    3.996424      0        0  \n",
              "4  0.268427    3.912735      0        0  "
            ],
            "text/html": [
              "\n",
              "  <div id=\"df-94214375-347c-43bd-bbc3-c0a69dbd3055\">\n",
              "    <div class=\"colab-df-container\">\n",
              "      <div>\n",
              "<style scoped>\n",
              "    .dataframe tbody tr th:only-of-type {\n",
              "        vertical-align: middle;\n",
              "    }\n",
              "\n",
              "    .dataframe tbody tr th {\n",
              "        vertical-align: top;\n",
              "    }\n",
              "\n",
              "    .dataframe thead th {\n",
              "        text-align: right;\n",
              "    }\n",
              "</style>\n",
              "<table border=\"1\" class=\"dataframe\">\n",
              "  <thead>\n",
              "    <tr style=\"text-align: right;\">\n",
              "      <th></th>\n",
              "      <th>Unnamed: 0</th>\n",
              "      <th>Epoch</th>\n",
              "      <th>Mean</th>\n",
              "      <th>Median</th>\n",
              "      <th>Varience</th>\n",
              "      <th>Kurtosis</th>\n",
              "      <th>Skewness</th>\n",
              "      <th>Power</th>\n",
              "      <th>Entropy</th>\n",
              "      <th>Spectral_entropy</th>\n",
              "      <th>Zero_Crossing</th>\n",
              "      <th>Hust</th>\n",
              "      <th>Pfd</th>\n",
              "      <th>Mobility</th>\n",
              "      <th>Complexity</th>\n",
              "      <th>label</th>\n",
              "      <th>Label_P</th>\n",
              "    </tr>\n",
              "  </thead>\n",
              "  <tbody>\n",
              "    <tr>\n",
              "      <th>0</th>\n",
              "      <td>0</td>\n",
              "      <td>0</td>\n",
              "      <td>0.315702</td>\n",
              "      <td>0.195360</td>\n",
              "      <td>293.709609</td>\n",
              "      <td>0.650111</td>\n",
              "      <td>0.244237</td>\n",
              "      <td>243.584979</td>\n",
              "      <td>0.965375</td>\n",
              "      <td>0.563809</td>\n",
              "      <td>220</td>\n",
              "      <td>0.558105</td>\n",
              "      <td>1.017736</td>\n",
              "      <td>0.271387</td>\n",
              "      <td>4.215109</td>\n",
              "      <td>0</td>\n",
              "      <td>0</td>\n",
              "    </tr>\n",
              "    <tr>\n",
              "      <th>1</th>\n",
              "      <td>10</td>\n",
              "      <td>1</td>\n",
              "      <td>-0.477460</td>\n",
              "      <td>-0.195360</td>\n",
              "      <td>211.184635</td>\n",
              "      <td>0.006100</td>\n",
              "      <td>-0.011966</td>\n",
              "      <td>188.543474</td>\n",
              "      <td>1.096501</td>\n",
              "      <td>0.615209</td>\n",
              "      <td>286</td>\n",
              "      <td>0.712594</td>\n",
              "      <td>1.017939</td>\n",
              "      <td>0.332927</td>\n",
              "      <td>3.452487</td>\n",
              "      <td>0</td>\n",
              "      <td>0</td>\n",
              "    </tr>\n",
              "    <tr>\n",
              "      <th>2</th>\n",
              "      <td>20</td>\n",
              "      <td>2</td>\n",
              "      <td>0.660943</td>\n",
              "      <td>0.586081</td>\n",
              "      <td>266.924705</td>\n",
              "      <td>0.169350</td>\n",
              "      <td>-0.003543</td>\n",
              "      <td>261.199724</td>\n",
              "      <td>0.932692</td>\n",
              "      <td>0.571226</td>\n",
              "      <td>232</td>\n",
              "      <td>0.557736</td>\n",
              "      <td>1.016307</td>\n",
              "      <td>0.279366</td>\n",
              "      <td>3.739299</td>\n",
              "      <td>0</td>\n",
              "      <td>0</td>\n",
              "    </tr>\n",
              "    <tr>\n",
              "      <th>3</th>\n",
              "      <td>30</td>\n",
              "      <td>3</td>\n",
              "      <td>0.131595</td>\n",
              "      <td>0.586081</td>\n",
              "      <td>273.405297</td>\n",
              "      <td>-0.301960</td>\n",
              "      <td>-0.115292</td>\n",
              "      <td>254.919126</td>\n",
              "      <td>0.905237</td>\n",
              "      <td>0.545947</td>\n",
              "      <td>165</td>\n",
              "      <td>0.586204</td>\n",
              "      <td>1.015971</td>\n",
              "      <td>0.261617</td>\n",
              "      <td>3.996424</td>\n",
              "      <td>0</td>\n",
              "      <td>0</td>\n",
              "    </tr>\n",
              "    <tr>\n",
              "      <th>4</th>\n",
              "      <td>40</td>\n",
              "      <td>4</td>\n",
              "      <td>0.348210</td>\n",
              "      <td>0.976801</td>\n",
              "      <td>227.138812</td>\n",
              "      <td>0.494540</td>\n",
              "      <td>-0.034210</td>\n",
              "      <td>213.185964</td>\n",
              "      <td>0.929569</td>\n",
              "      <td>0.542437</td>\n",
              "      <td>206</td>\n",
              "      <td>0.606963</td>\n",
              "      <td>1.015467</td>\n",
              "      <td>0.268427</td>\n",
              "      <td>3.912735</td>\n",
              "      <td>0</td>\n",
              "      <td>0</td>\n",
              "    </tr>\n",
              "  </tbody>\n",
              "</table>\n",
              "</div>\n",
              "      <button class=\"colab-df-convert\" onclick=\"convertToInteractive('df-94214375-347c-43bd-bbc3-c0a69dbd3055')\"\n",
              "              title=\"Convert this dataframe to an interactive table.\"\n",
              "              style=\"display:none;\">\n",
              "        \n",
              "  <svg xmlns=\"http://www.w3.org/2000/svg\" height=\"24px\"viewBox=\"0 0 24 24\"\n",
              "       width=\"24px\">\n",
              "    <path d=\"M0 0h24v24H0V0z\" fill=\"none\"/>\n",
              "    <path d=\"M18.56 5.44l.94 2.06.94-2.06 2.06-.94-2.06-.94-.94-2.06-.94 2.06-2.06.94zm-11 1L8.5 8.5l.94-2.06 2.06-.94-2.06-.94L8.5 2.5l-.94 2.06-2.06.94zm10 10l.94 2.06.94-2.06 2.06-.94-2.06-.94-.94-2.06-.94 2.06-2.06.94z\"/><path d=\"M17.41 7.96l-1.37-1.37c-.4-.4-.92-.59-1.43-.59-.52 0-1.04.2-1.43.59L10.3 9.45l-7.72 7.72c-.78.78-.78 2.05 0 2.83L4 21.41c.39.39.9.59 1.41.59.51 0 1.02-.2 1.41-.59l7.78-7.78 2.81-2.81c.8-.78.8-2.07 0-2.86zM5.41 20L4 18.59l7.72-7.72 1.47 1.35L5.41 20z\"/>\n",
              "  </svg>\n",
              "      </button>\n",
              "      \n",
              "  <style>\n",
              "    .colab-df-container {\n",
              "      display:flex;\n",
              "      flex-wrap:wrap;\n",
              "      gap: 12px;\n",
              "    }\n",
              "\n",
              "    .colab-df-convert {\n",
              "      background-color: #E8F0FE;\n",
              "      border: none;\n",
              "      border-radius: 50%;\n",
              "      cursor: pointer;\n",
              "      display: none;\n",
              "      fill: #1967D2;\n",
              "      height: 32px;\n",
              "      padding: 0 0 0 0;\n",
              "      width: 32px;\n",
              "    }\n",
              "\n",
              "    .colab-df-convert:hover {\n",
              "      background-color: #E2EBFA;\n",
              "      box-shadow: 0px 1px 2px rgba(60, 64, 67, 0.3), 0px 1px 3px 1px rgba(60, 64, 67, 0.15);\n",
              "      fill: #174EA6;\n",
              "    }\n",
              "\n",
              "    [theme=dark] .colab-df-convert {\n",
              "      background-color: #3B4455;\n",
              "      fill: #D2E3FC;\n",
              "    }\n",
              "\n",
              "    [theme=dark] .colab-df-convert:hover {\n",
              "      background-color: #434B5C;\n",
              "      box-shadow: 0px 1px 3px 1px rgba(0, 0, 0, 0.15);\n",
              "      filter: drop-shadow(0px 1px 2px rgba(0, 0, 0, 0.3));\n",
              "      fill: #FFFFFF;\n",
              "    }\n",
              "  </style>\n",
              "\n",
              "      <script>\n",
              "        const buttonEl =\n",
              "          document.querySelector('#df-94214375-347c-43bd-bbc3-c0a69dbd3055 button.colab-df-convert');\n",
              "        buttonEl.style.display =\n",
              "          google.colab.kernel.accessAllowed ? 'block' : 'none';\n",
              "\n",
              "        async function convertToInteractive(key) {\n",
              "          const element = document.querySelector('#df-94214375-347c-43bd-bbc3-c0a69dbd3055');\n",
              "          const dataTable =\n",
              "            await google.colab.kernel.invokeFunction('convertToInteractive',\n",
              "                                                     [key], {});\n",
              "          if (!dataTable) return;\n",
              "\n",
              "          const docLinkHtml = 'Like what you see? Visit the ' +\n",
              "            '<a target=\"_blank\" href=https://colab.research.google.com/notebooks/data_table.ipynb>data table notebook</a>'\n",
              "            + ' to learn more about interactive tables.';\n",
              "          element.innerHTML = '';\n",
              "          dataTable['output_type'] = 'display_data';\n",
              "          await google.colab.output.renderOutput(dataTable, element);\n",
              "          const docLink = document.createElement('div');\n",
              "          docLink.innerHTML = docLinkHtml;\n",
              "          element.appendChild(docLink);\n",
              "        }\n",
              "      </script>\n",
              "    </div>\n",
              "  </div>\n",
              "  "
            ]
          },
          "metadata": {},
          "execution_count": 61
        }
      ]
    },
    {
      "cell_type": "code",
      "source": [
        "df.rename(columns = {'Unnamed: 0':'Times(sec)'}, inplace = True)"
      ],
      "metadata": {
        "id": "6HkdRDMLW88c"
      },
      "execution_count": null,
      "outputs": []
    },
    {
      "cell_type": "code",
      "source": [
        "df1 = df.copy()"
      ],
      "metadata": {
        "id": "Ufu-iAONqJR3"
      },
      "execution_count": null,
      "outputs": []
    },
    {
      "cell_type": "code",
      "source": [
        "df1.head()"
      ],
      "metadata": {
        "colab": {
          "base_uri": "https://localhost:8080/",
          "height": 270
        },
        "id": "RjmORz1iW3wZ",
        "outputId": "5deb3f91-cb22-437b-bb4f-8007822cfd0f"
      },
      "execution_count": null,
      "outputs": [
        {
          "output_type": "execute_result",
          "data": {
            "text/plain": [
              "   Times(sec)  Epoch      Mean    Median    Varience  Kurtosis  Skewness  \\\n",
              "0           0      0  0.315702  0.195360  293.709609  0.650111  0.244237   \n",
              "1          10      1 -0.477460 -0.195360  211.184635  0.006100 -0.011966   \n",
              "2          20      2  0.660943  0.586081  266.924705  0.169350 -0.003543   \n",
              "3          30      3  0.131595  0.586081  273.405297 -0.301960 -0.115292   \n",
              "4          40      4  0.348210  0.976801  227.138812  0.494540 -0.034210   \n",
              "\n",
              "        Power   Entropy  Spectral_entropy  Zero_Crossing      Hust       Pfd  \\\n",
              "0  243.584979  0.965375          0.563809            220  0.558105  1.017736   \n",
              "1  188.543474  1.096501          0.615209            286  0.712594  1.017939   \n",
              "2  261.199724  0.932692          0.571226            232  0.557736  1.016307   \n",
              "3  254.919126  0.905237          0.545947            165  0.586204  1.015971   \n",
              "4  213.185964  0.929569          0.542437            206  0.606963  1.015467   \n",
              "\n",
              "   Mobility  Complexity  label  Label_P  \n",
              "0  0.271387    4.215109      0        0  \n",
              "1  0.332927    3.452487      0        0  \n",
              "2  0.279366    3.739299      0        0  \n",
              "3  0.261617    3.996424      0        0  \n",
              "4  0.268427    3.912735      0        0  "
            ],
            "text/html": [
              "\n",
              "  <div id=\"df-73682aa0-13ff-45f8-b6df-2acb93efdaff\">\n",
              "    <div class=\"colab-df-container\">\n",
              "      <div>\n",
              "<style scoped>\n",
              "    .dataframe tbody tr th:only-of-type {\n",
              "        vertical-align: middle;\n",
              "    }\n",
              "\n",
              "    .dataframe tbody tr th {\n",
              "        vertical-align: top;\n",
              "    }\n",
              "\n",
              "    .dataframe thead th {\n",
              "        text-align: right;\n",
              "    }\n",
              "</style>\n",
              "<table border=\"1\" class=\"dataframe\">\n",
              "  <thead>\n",
              "    <tr style=\"text-align: right;\">\n",
              "      <th></th>\n",
              "      <th>Times(sec)</th>\n",
              "      <th>Epoch</th>\n",
              "      <th>Mean</th>\n",
              "      <th>Median</th>\n",
              "      <th>Varience</th>\n",
              "      <th>Kurtosis</th>\n",
              "      <th>Skewness</th>\n",
              "      <th>Power</th>\n",
              "      <th>Entropy</th>\n",
              "      <th>Spectral_entropy</th>\n",
              "      <th>Zero_Crossing</th>\n",
              "      <th>Hust</th>\n",
              "      <th>Pfd</th>\n",
              "      <th>Mobility</th>\n",
              "      <th>Complexity</th>\n",
              "      <th>label</th>\n",
              "      <th>Label_P</th>\n",
              "    </tr>\n",
              "  </thead>\n",
              "  <tbody>\n",
              "    <tr>\n",
              "      <th>0</th>\n",
              "      <td>0</td>\n",
              "      <td>0</td>\n",
              "      <td>0.315702</td>\n",
              "      <td>0.195360</td>\n",
              "      <td>293.709609</td>\n",
              "      <td>0.650111</td>\n",
              "      <td>0.244237</td>\n",
              "      <td>243.584979</td>\n",
              "      <td>0.965375</td>\n",
              "      <td>0.563809</td>\n",
              "      <td>220</td>\n",
              "      <td>0.558105</td>\n",
              "      <td>1.017736</td>\n",
              "      <td>0.271387</td>\n",
              "      <td>4.215109</td>\n",
              "      <td>0</td>\n",
              "      <td>0</td>\n",
              "    </tr>\n",
              "    <tr>\n",
              "      <th>1</th>\n",
              "      <td>10</td>\n",
              "      <td>1</td>\n",
              "      <td>-0.477460</td>\n",
              "      <td>-0.195360</td>\n",
              "      <td>211.184635</td>\n",
              "      <td>0.006100</td>\n",
              "      <td>-0.011966</td>\n",
              "      <td>188.543474</td>\n",
              "      <td>1.096501</td>\n",
              "      <td>0.615209</td>\n",
              "      <td>286</td>\n",
              "      <td>0.712594</td>\n",
              "      <td>1.017939</td>\n",
              "      <td>0.332927</td>\n",
              "      <td>3.452487</td>\n",
              "      <td>0</td>\n",
              "      <td>0</td>\n",
              "    </tr>\n",
              "    <tr>\n",
              "      <th>2</th>\n",
              "      <td>20</td>\n",
              "      <td>2</td>\n",
              "      <td>0.660943</td>\n",
              "      <td>0.586081</td>\n",
              "      <td>266.924705</td>\n",
              "      <td>0.169350</td>\n",
              "      <td>-0.003543</td>\n",
              "      <td>261.199724</td>\n",
              "      <td>0.932692</td>\n",
              "      <td>0.571226</td>\n",
              "      <td>232</td>\n",
              "      <td>0.557736</td>\n",
              "      <td>1.016307</td>\n",
              "      <td>0.279366</td>\n",
              "      <td>3.739299</td>\n",
              "      <td>0</td>\n",
              "      <td>0</td>\n",
              "    </tr>\n",
              "    <tr>\n",
              "      <th>3</th>\n",
              "      <td>30</td>\n",
              "      <td>3</td>\n",
              "      <td>0.131595</td>\n",
              "      <td>0.586081</td>\n",
              "      <td>273.405297</td>\n",
              "      <td>-0.301960</td>\n",
              "      <td>-0.115292</td>\n",
              "      <td>254.919126</td>\n",
              "      <td>0.905237</td>\n",
              "      <td>0.545947</td>\n",
              "      <td>165</td>\n",
              "      <td>0.586204</td>\n",
              "      <td>1.015971</td>\n",
              "      <td>0.261617</td>\n",
              "      <td>3.996424</td>\n",
              "      <td>0</td>\n",
              "      <td>0</td>\n",
              "    </tr>\n",
              "    <tr>\n",
              "      <th>4</th>\n",
              "      <td>40</td>\n",
              "      <td>4</td>\n",
              "      <td>0.348210</td>\n",
              "      <td>0.976801</td>\n",
              "      <td>227.138812</td>\n",
              "      <td>0.494540</td>\n",
              "      <td>-0.034210</td>\n",
              "      <td>213.185964</td>\n",
              "      <td>0.929569</td>\n",
              "      <td>0.542437</td>\n",
              "      <td>206</td>\n",
              "      <td>0.606963</td>\n",
              "      <td>1.015467</td>\n",
              "      <td>0.268427</td>\n",
              "      <td>3.912735</td>\n",
              "      <td>0</td>\n",
              "      <td>0</td>\n",
              "    </tr>\n",
              "  </tbody>\n",
              "</table>\n",
              "</div>\n",
              "      <button class=\"colab-df-convert\" onclick=\"convertToInteractive('df-73682aa0-13ff-45f8-b6df-2acb93efdaff')\"\n",
              "              title=\"Convert this dataframe to an interactive table.\"\n",
              "              style=\"display:none;\">\n",
              "        \n",
              "  <svg xmlns=\"http://www.w3.org/2000/svg\" height=\"24px\"viewBox=\"0 0 24 24\"\n",
              "       width=\"24px\">\n",
              "    <path d=\"M0 0h24v24H0V0z\" fill=\"none\"/>\n",
              "    <path d=\"M18.56 5.44l.94 2.06.94-2.06 2.06-.94-2.06-.94-.94-2.06-.94 2.06-2.06.94zm-11 1L8.5 8.5l.94-2.06 2.06-.94-2.06-.94L8.5 2.5l-.94 2.06-2.06.94zm10 10l.94 2.06.94-2.06 2.06-.94-2.06-.94-.94-2.06-.94 2.06-2.06.94z\"/><path d=\"M17.41 7.96l-1.37-1.37c-.4-.4-.92-.59-1.43-.59-.52 0-1.04.2-1.43.59L10.3 9.45l-7.72 7.72c-.78.78-.78 2.05 0 2.83L4 21.41c.39.39.9.59 1.41.59.51 0 1.02-.2 1.41-.59l7.78-7.78 2.81-2.81c.8-.78.8-2.07 0-2.86zM5.41 20L4 18.59l7.72-7.72 1.47 1.35L5.41 20z\"/>\n",
              "  </svg>\n",
              "      </button>\n",
              "      \n",
              "  <style>\n",
              "    .colab-df-container {\n",
              "      display:flex;\n",
              "      flex-wrap:wrap;\n",
              "      gap: 12px;\n",
              "    }\n",
              "\n",
              "    .colab-df-convert {\n",
              "      background-color: #E8F0FE;\n",
              "      border: none;\n",
              "      border-radius: 50%;\n",
              "      cursor: pointer;\n",
              "      display: none;\n",
              "      fill: #1967D2;\n",
              "      height: 32px;\n",
              "      padding: 0 0 0 0;\n",
              "      width: 32px;\n",
              "    }\n",
              "\n",
              "    .colab-df-convert:hover {\n",
              "      background-color: #E2EBFA;\n",
              "      box-shadow: 0px 1px 2px rgba(60, 64, 67, 0.3), 0px 1px 3px 1px rgba(60, 64, 67, 0.15);\n",
              "      fill: #174EA6;\n",
              "    }\n",
              "\n",
              "    [theme=dark] .colab-df-convert {\n",
              "      background-color: #3B4455;\n",
              "      fill: #D2E3FC;\n",
              "    }\n",
              "\n",
              "    [theme=dark] .colab-df-convert:hover {\n",
              "      background-color: #434B5C;\n",
              "      box-shadow: 0px 1px 3px 1px rgba(0, 0, 0, 0.15);\n",
              "      filter: drop-shadow(0px 1px 2px rgba(0, 0, 0, 0.3));\n",
              "      fill: #FFFFFF;\n",
              "    }\n",
              "  </style>\n",
              "\n",
              "      <script>\n",
              "        const buttonEl =\n",
              "          document.querySelector('#df-73682aa0-13ff-45f8-b6df-2acb93efdaff button.colab-df-convert');\n",
              "        buttonEl.style.display =\n",
              "          google.colab.kernel.accessAllowed ? 'block' : 'none';\n",
              "\n",
              "        async function convertToInteractive(key) {\n",
              "          const element = document.querySelector('#df-73682aa0-13ff-45f8-b6df-2acb93efdaff');\n",
              "          const dataTable =\n",
              "            await google.colab.kernel.invokeFunction('convertToInteractive',\n",
              "                                                     [key], {});\n",
              "          if (!dataTable) return;\n",
              "\n",
              "          const docLinkHtml = 'Like what you see? Visit the ' +\n",
              "            '<a target=\"_blank\" href=https://colab.research.google.com/notebooks/data_table.ipynb>data table notebook</a>'\n",
              "            + ' to learn more about interactive tables.';\n",
              "          element.innerHTML = '';\n",
              "          dataTable['output_type'] = 'display_data';\n",
              "          await google.colab.output.renderOutput(dataTable, element);\n",
              "          const docLink = document.createElement('div');\n",
              "          docLink.innerHTML = docLinkHtml;\n",
              "          element.appendChild(docLink);\n",
              "        }\n",
              "      </script>\n",
              "    </div>\n",
              "  </div>\n",
              "  "
            ]
          },
          "metadata": {},
          "execution_count": 64
        }
      ]
    },
    {
      "cell_type": "code",
      "source": [
        "df2=df1.drop(['Epoch','label'], axis = 1)\n",
        "#df1.drop(['label'], axis = 1)"
      ],
      "metadata": {
        "id": "9btntaEbqm8U"
      },
      "execution_count": null,
      "outputs": []
    },
    {
      "cell_type": "code",
      "source": [
        "df2.columns"
      ],
      "metadata": {
        "colab": {
          "base_uri": "https://localhost:8080/"
        },
        "id": "PXs4yMq8wBLn",
        "outputId": "984ede9b-85c7-4ee8-9409-45cd8bd4deec"
      },
      "execution_count": null,
      "outputs": [
        {
          "output_type": "execute_result",
          "data": {
            "text/plain": [
              "Index(['Times(sec)', 'Mean', 'Median', 'Varience', 'Kurtosis', 'Skewness',\n",
              "       'Power', 'Entropy', 'Spectral_entropy', 'Zero_Crossing', 'Hust', 'Pfd',\n",
              "       'Mobility', 'Complexity', 'Label_P'],\n",
              "      dtype='object')"
            ]
          },
          "metadata": {},
          "execution_count": 77
        }
      ]
    },
    {
      "cell_type": "code",
      "source": [
        "y[0]"
      ],
      "metadata": {
        "id": "V8dGo3tJ7hFr"
      },
      "execution_count": null,
      "outputs": []
    },
    {
      "cell_type": "code",
      "source": [
        "X[0]"
      ],
      "metadata": {
        "id": "kgoqzSO3rb0p"
      },
      "execution_count": null,
      "outputs": []
    },
    {
      "cell_type": "code",
      "source": [
        "from sklearn.model_selection import train_test_split\n",
        "X_train, X_test, y_train, y_test = train_test_split(X, y, test_size = 0.25, random_state = 6)"
      ],
      "metadata": {
        "id": "a9eKWA8iqIXr"
      },
      "execution_count": null,
      "outputs": []
    },
    {
      "cell_type": "code",
      "source": [
        "X_test.shape"
      ],
      "metadata": {
        "colab": {
          "base_uri": "https://localhost:8080/"
        },
        "id": "2Zx4f35d7oMS",
        "outputId": "74956a61-db13-42e4-eeae-549a9b7f3482"
      },
      "execution_count": null,
      "outputs": [
        {
          "output_type": "execute_result",
          "data": {
            "text/plain": [
              "(703, 6)"
            ]
          },
          "metadata": {},
          "execution_count": 8
        }
      ]
    },
    {
      "cell_type": "code",
      "source": [
        "from sklearn.preprocessing import StandardScaler\n",
        "sc = StandardScaler()\n",
        "X_train = sc.fit_transform(X_train)\n",
        "X_test = sc.fit_transform(X_test)"
      ],
      "metadata": {
        "id": "A9VPiqGerQKw"
      },
      "execution_count": null,
      "outputs": []
    },
    {
      "cell_type": "code",
      "source": [
        "X_train[0]"
      ],
      "metadata": {
        "colab": {
          "base_uri": "https://localhost:8080/"
        },
        "id": "n-3ZS9uux-gj",
        "outputId": "ded3e4c3-8a0c-44d1-bec7-68ca6fa7da7d"
      },
      "execution_count": null,
      "outputs": [
        {
          "output_type": "execute_result",
          "data": {
            "text/plain": [
              "array([-0.05562013, -0.68197179, -0.62192336, -0.53319276, -0.49243916,\n",
              "       -0.33582202])"
            ]
          },
          "metadata": {},
          "execution_count": 10
        }
      ]
    },
    {
      "cell_type": "code",
      "source": [
        "len(y_train)"
      ],
      "metadata": {
        "colab": {
          "base_uri": "https://localhost:8080/"
        },
        "id": "aVLGmXxlbAia",
        "outputId": "24e68434-1a2f-441c-88c1-b146a6fe6faf"
      },
      "execution_count": null,
      "outputs": [
        {
          "output_type": "execute_result",
          "data": {
            "text/plain": [
              "2109"
            ]
          },
          "metadata": {},
          "execution_count": 11
        }
      ]
    },
    {
      "cell_type": "code",
      "source": [
        "X_train = X_train.reshape(X_train.shape[0],6, 1)\n",
        "X_test = X_test.reshape(X_test.shape[0],6, 1)"
      ],
      "metadata": {
        "id": "qd-I1N8SrWEn"
      },
      "execution_count": null,
      "outputs": []
    },
    {
      "cell_type": "code",
      "source": [
        "  model = keras.Sequential()\n",
        "  model.add(keras.layers.GRU(32,batch_input_shape = (None,6,1), return_sequences=True, recurrent_activation='relu'))\n",
        "  model.add(keras.layers.GRU(20, return_sequences=False, recurrent_activation='relu'))\n",
        "  model.add(LeakyReLU(alpha=0.03))\n",
        "  model.add(Dropout(0.5))\n",
        "  model.add(keras.layers.Dense(3,activation=\"relu\"))\n",
        "  model.add(keras.layers.Dense(1,activation=\"sigmoid\"))\n",
        "  model.compile(optimizer='adam',loss='binary_crossentropy',metrics=['TruePositives','TrueNegatives','FalsePositives','FalseNegatives','accuracy'])\n",
        "  model.summary()"
      ],
      "metadata": {
        "id": "I7zFlyL8r5-E"
      },
      "execution_count": null,
      "outputs": []
    },
    {
      "cell_type": "code",
      "source": [
        "  model2 = keras.Sequential()\n",
        "  model2.add(keras.layers.GRU(32,batch_input_shape = (None,6,1), return_sequences=True, recurrent_activation='relu'))\n",
        "  model2.add(keras.layers.GRU(20, return_sequences=False, recurrent_activation='relu'))\n",
        "  model2.add(LeakyReLU(alpha=0.07))\n",
        "  model2.add(Dropout(0.5))\n",
        "  model2.add(keras.layers.Dense(3,activation=\"relu\"))\n",
        "  model2.add(keras.layers.Dense(1,activation=\"sigmoid\"))\n",
        "  model2.compile(optimizer='adam',loss='binary_crossentropy',metrics=['TruePositives','TrueNegatives','FalsePositives','FalseNegatives','accuracy'])\n",
        "  model2.summary()"
      ],
      "metadata": {
        "colab": {
          "base_uri": "https://localhost:8080/"
        },
        "id": "Mv1jsWpAwN4H",
        "outputId": "c13294b3-5ebf-4702-fa2d-8c9995671311"
      },
      "execution_count": null,
      "outputs": [
        {
          "output_type": "stream",
          "name": "stdout",
          "text": [
            "Model: \"sequential_1\"\n",
            "_________________________________________________________________\n",
            " Layer (type)                Output Shape              Param #   \n",
            "=================================================================\n",
            " gru_2 (GRU)                 (None, 6, 32)             3360      \n",
            "                                                                 \n",
            " gru_3 (GRU)                 (None, 20)                3240      \n",
            "                                                                 \n",
            " leaky_re_lu_1 (LeakyReLU)   (None, 20)                0         \n",
            "                                                                 \n",
            " dropout_1 (Dropout)         (None, 20)                0         \n",
            "                                                                 \n",
            " dense_2 (Dense)             (None, 3)                 63        \n",
            "                                                                 \n",
            " dense_3 (Dense)             (None, 1)                 4         \n",
            "                                                                 \n",
            "=================================================================\n",
            "Total params: 6,667\n",
            "Trainable params: 6,667\n",
            "Non-trainable params: 0\n",
            "_________________________________________________________________\n"
          ]
        }
      ]
    },
    {
      "cell_type": "code",
      "source": [
        "  model3 = keras.Sequential()\n",
        "  model3.add(keras.layers.GRU(32,batch_input_shape = (None,6,1), return_sequences=True, recurrent_activation='relu'))\n",
        "  model3.add(LeakyReLU(alpha=0.07))\n",
        "  model3.add(keras.layers.GRU(20,batch_input_shape = (None,6,1), return_sequences=True, recurrent_activation='relu'))\n",
        "  model3.add(LeakyReLU(alpha=0.07))\n",
        "  model3.add(Dropout(0.5))\n",
        "  model3.add(keras.layers.GRU(10, return_sequences=False, recurrent_activation='relu'))\n",
        "  model3.add(Dropout(0.5))\n",
        "  model3.add(keras.layers.Dense(3,activation=\"relu\"))\n",
        "  model3.add(keras.layers.Dense(1,activation=\"sigmoid\"))\n",
        "  model3.compile(optimizer='adam',loss='binary_crossentropy',metrics=['TruePositives','TrueNegatives','FalsePositives','FalseNegatives','accuracy'])\n",
        "  model3.summary()"
      ],
      "metadata": {
        "id": "0Z3qZnaa3wqq",
        "colab": {
          "base_uri": "https://localhost:8080/"
        },
        "outputId": "4cb1bb37-a80f-4483-e339-f6e5b08b4f0c"
      },
      "execution_count": null,
      "outputs": [
        {
          "output_type": "stream",
          "name": "stdout",
          "text": [
            "Model: \"sequential_2\"\n",
            "_________________________________________________________________\n",
            " Layer (type)                Output Shape              Param #   \n",
            "=================================================================\n",
            " gru_6 (GRU)                 (None, 6, 32)             3360      \n",
            "                                                                 \n",
            " leaky_re_lu_4 (LeakyReLU)   (None, 6, 32)             0         \n",
            "                                                                 \n",
            " gru_7 (GRU)                 (None, 6, 20)             3240      \n",
            "                                                                 \n",
            " leaky_re_lu_5 (LeakyReLU)   (None, 6, 20)             0         \n",
            "                                                                 \n",
            " dropout_4 (Dropout)         (None, 6, 20)             0         \n",
            "                                                                 \n",
            " gru_8 (GRU)                 (None, 10)                960       \n",
            "                                                                 \n",
            " dropout_5 (Dropout)         (None, 10)                0         \n",
            "                                                                 \n",
            " dense_4 (Dense)             (None, 3)                 33        \n",
            "                                                                 \n",
            " dense_5 (Dense)             (None, 1)                 4         \n",
            "                                                                 \n",
            "=================================================================\n",
            "Total params: 7,597\n",
            "Trainable params: 7,597\n",
            "Non-trainable params: 0\n",
            "_________________________________________________________________\n"
          ]
        }
      ]
    },
    {
      "cell_type": "code",
      "source": [
        "  model4 = keras.Sequential()\n",
        "  model4.add(keras.layers.GRU(32,batch_input_shape = (None,6,1), return_sequences=True, recurrent_activation='relu'))\n",
        "  model4.add(LeakyReLU(alpha=0.05))\n",
        "  model4.add(keras.layers.GRU(20,batch_input_shape = (None,6,1), return_sequences=True, recurrent_activation='relu'))\n",
        "  model4.add(LeakyReLU(alpha=0.05))\n",
        "  model4.add(Dropout(0.5))\n",
        "  model4.add(keras.layers.GRU(10, return_sequences=False, recurrent_activation='relu'))\n",
        "  model4.add(Dropout(0.5))\n",
        "  model4.add(keras.layers.Dense(3,activation=\"relu\"))\n",
        "  model4.add(keras.layers.Dense(1,activation=\"sigmoid\"))\n",
        "  model4.compile(optimizer='adam',loss='binary_crossentropy',metrics=['TruePositives','TrueNegatives','FalsePositives','FalseNegatives','accuracy'])\n",
        "  model4.summary()"
      ],
      "metadata": {
        "id": "wz4gK-zW4dn4"
      },
      "execution_count": null,
      "outputs": []
    },
    {
      "cell_type": "code",
      "source": [
        "from keras.utils.vis_utils import plot_model\n",
        "plot_model(model2, to_file='model_plot.png', show_shapes=True, show_layer_names=True)"
      ],
      "metadata": {
        "id": "NVdJGJKIsCcP"
      },
      "execution_count": null,
      "outputs": []
    },
    {
      "cell_type": "code",
      "source": [
        "his = model3.fit(X_train, y_train, epochs=100, validation_data=(X_test,y_test))"
      ],
      "metadata": {
        "colab": {
          "base_uri": "https://localhost:8080/"
        },
        "id": "re1kkuGMsZGf",
        "outputId": "3b309fae-b431-41f7-e400-0ed73f95bc46"
      },
      "execution_count": null,
      "outputs": [
        {
          "output_type": "stream",
          "name": "stdout",
          "text": [
            "Epoch 1/100\n",
            "66/66 [==============================] - 7s 27ms/step - loss: 0.5347 - true_positives: 1.0000 - true_negatives: 1908.0000 - false_positives: 9.0000 - false_negatives: 191.0000 - accuracy: 0.9052 - val_loss: 0.3026 - val_true_positives: 0.0000e+00 - val_true_negatives: 633.0000 - val_false_positives: 0.0000e+00 - val_false_negatives: 70.0000 - val_accuracy: 0.9004\n",
            "Epoch 2/100\n",
            "66/66 [==============================] - 1s 12ms/step - loss: 0.2885 - true_positives: 0.0000e+00 - true_negatives: 1917.0000 - false_positives: 0.0000e+00 - false_negatives: 192.0000 - accuracy: 0.9090 - val_loss: 0.2494 - val_true_positives: 0.0000e+00 - val_true_negatives: 633.0000 - val_false_positives: 0.0000e+00 - val_false_negatives: 70.0000 - val_accuracy: 0.9004\n",
            "Epoch 3/100\n",
            "66/66 [==============================] - 1s 12ms/step - loss: 0.2465 - true_positives: 0.0000e+00 - true_negatives: 1917.0000 - false_positives: 0.0000e+00 - false_negatives: 192.0000 - accuracy: 0.9090 - val_loss: 0.2086 - val_true_positives: 0.0000e+00 - val_true_negatives: 633.0000 - val_false_positives: 0.0000e+00 - val_false_negatives: 70.0000 - val_accuracy: 0.9004\n",
            "Epoch 4/100\n",
            "66/66 [==============================] - 1s 14ms/step - loss: 0.2117 - true_positives: 0.0000e+00 - true_negatives: 1917.0000 - false_positives: 0.0000e+00 - false_negatives: 192.0000 - accuracy: 0.9090 - val_loss: 0.1724 - val_true_positives: 0.0000e+00 - val_true_negatives: 633.0000 - val_false_positives: 0.0000e+00 - val_false_negatives: 70.0000 - val_accuracy: 0.9004\n",
            "Epoch 5/100\n",
            "66/66 [==============================] - 1s 14ms/step - loss: 0.2022 - true_positives: 0.0000e+00 - true_negatives: 1917.0000 - false_positives: 0.0000e+00 - false_negatives: 192.0000 - accuracy: 0.9090 - val_loss: 0.1668 - val_true_positives: 0.0000e+00 - val_true_negatives: 633.0000 - val_false_positives: 0.0000e+00 - val_false_negatives: 70.0000 - val_accuracy: 0.9004\n",
            "Epoch 6/100\n",
            "66/66 [==============================] - 1s 12ms/step - loss: 0.1797 - true_positives: 0.0000e+00 - true_negatives: 1917.0000 - false_positives: 0.0000e+00 - false_negatives: 192.0000 - accuracy: 0.9090 - val_loss: 0.1465 - val_true_positives: 0.0000e+00 - val_true_negatives: 633.0000 - val_false_positives: 0.0000e+00 - val_false_negatives: 70.0000 - val_accuracy: 0.9004\n",
            "Epoch 7/100\n",
            "66/66 [==============================] - 1s 12ms/step - loss: 0.1683 - true_positives: 0.0000e+00 - true_negatives: 1917.0000 - false_positives: 0.0000e+00 - false_negatives: 192.0000 - accuracy: 0.9090 - val_loss: 0.1427 - val_true_positives: 0.0000e+00 - val_true_negatives: 633.0000 - val_false_positives: 0.0000e+00 - val_false_negatives: 70.0000 - val_accuracy: 0.9004\n",
            "Epoch 8/100\n",
            "66/66 [==============================] - 1s 14ms/step - loss: 0.1561 - true_positives: 0.0000e+00 - true_negatives: 1917.0000 - false_positives: 0.0000e+00 - false_negatives: 192.0000 - accuracy: 0.9090 - val_loss: 0.1325 - val_true_positives: 0.0000e+00 - val_true_negatives: 633.0000 - val_false_positives: 0.0000e+00 - val_false_negatives: 70.0000 - val_accuracy: 0.9004\n",
            "Epoch 9/100\n",
            "66/66 [==============================] - 1s 13ms/step - loss: 0.1436 - true_positives: 0.0000e+00 - true_negatives: 1917.0000 - false_positives: 0.0000e+00 - false_negatives: 192.0000 - accuracy: 0.9090 - val_loss: 0.1289 - val_true_positives: 0.0000e+00 - val_true_negatives: 633.0000 - val_false_positives: 0.0000e+00 - val_false_negatives: 70.0000 - val_accuracy: 0.9004\n",
            "Epoch 10/100\n",
            "66/66 [==============================] - 1s 12ms/step - loss: 0.1428 - true_positives: 0.0000e+00 - true_negatives: 1917.0000 - false_positives: 0.0000e+00 - false_negatives: 192.0000 - accuracy: 0.9090 - val_loss: 0.1282 - val_true_positives: 0.0000e+00 - val_true_negatives: 633.0000 - val_false_positives: 0.0000e+00 - val_false_negatives: 70.0000 - val_accuracy: 0.9004\n",
            "Epoch 11/100\n",
            "66/66 [==============================] - 1s 12ms/step - loss: 0.1371 - true_positives: 0.0000e+00 - true_negatives: 1917.0000 - false_positives: 0.0000e+00 - false_negatives: 192.0000 - accuracy: 0.9090 - val_loss: 0.1250 - val_true_positives: 0.0000e+00 - val_true_negatives: 633.0000 - val_false_positives: 0.0000e+00 - val_false_negatives: 70.0000 - val_accuracy: 0.9004\n",
            "Epoch 12/100\n",
            "66/66 [==============================] - 1s 13ms/step - loss: 0.1334 - true_positives: 0.0000e+00 - true_negatives: 1917.0000 - false_positives: 0.0000e+00 - false_negatives: 192.0000 - accuracy: 0.9090 - val_loss: 0.1292 - val_true_positives: 0.0000e+00 - val_true_negatives: 633.0000 - val_false_positives: 0.0000e+00 - val_false_negatives: 70.0000 - val_accuracy: 0.9004\n",
            "Epoch 13/100\n",
            "66/66 [==============================] - 1s 13ms/step - loss: 0.1353 - true_positives: 20.0000 - true_negatives: 1913.0000 - false_positives: 4.0000 - false_negatives: 172.0000 - accuracy: 0.9165 - val_loss: 0.1217 - val_true_positives: 63.0000 - val_true_negatives: 623.0000 - val_false_positives: 10.0000 - val_false_negatives: 7.0000 - val_accuracy: 0.9758\n",
            "Epoch 14/100\n",
            "66/66 [==============================] - 1s 13ms/step - loss: 0.1260 - true_positives: 120.0000 - true_negatives: 1877.0000 - false_positives: 40.0000 - false_negatives: 72.0000 - accuracy: 0.9469 - val_loss: 0.1358 - val_true_positives: 65.0000 - val_true_negatives: 609.0000 - val_false_positives: 24.0000 - val_false_negatives: 5.0000 - val_accuracy: 0.9587\n",
            "Epoch 15/100\n",
            "66/66 [==============================] - 1s 12ms/step - loss: 0.1262 - true_positives: 122.0000 - true_negatives: 1891.0000 - false_positives: 26.0000 - false_negatives: 70.0000 - accuracy: 0.9545 - val_loss: 0.1198 - val_true_positives: 57.0000 - val_true_negatives: 629.0000 - val_false_positives: 4.0000 - val_false_negatives: 13.0000 - val_accuracy: 0.9758\n",
            "Epoch 16/100\n",
            "66/66 [==============================] - 1s 13ms/step - loss: 0.1133 - true_positives: 132.0000 - true_negatives: 1900.0000 - false_positives: 17.0000 - false_negatives: 60.0000 - accuracy: 0.9635 - val_loss: 0.1344 - val_true_positives: 50.0000 - val_true_negatives: 631.0000 - val_false_positives: 2.0000 - val_false_negatives: 20.0000 - val_accuracy: 0.9687\n",
            "Epoch 17/100\n",
            "66/66 [==============================] - 1s 14ms/step - loss: 0.1180 - true_positives: 129.0000 - true_negatives: 1893.0000 - false_positives: 24.0000 - false_negatives: 63.0000 - accuracy: 0.9587 - val_loss: 0.1126 - val_true_positives: 54.0000 - val_true_negatives: 630.0000 - val_false_positives: 3.0000 - val_false_negatives: 16.0000 - val_accuracy: 0.9730\n",
            "Epoch 18/100\n",
            "66/66 [==============================] - 1s 13ms/step - loss: 0.1212 - true_positives: 139.0000 - true_negatives: 1891.0000 - false_positives: 26.0000 - false_negatives: 53.0000 - accuracy: 0.9625 - val_loss: 0.1108 - val_true_positives: 55.0000 - val_true_negatives: 631.0000 - val_false_positives: 2.0000 - val_false_negatives: 15.0000 - val_accuracy: 0.9758\n",
            "Epoch 19/100\n",
            "66/66 [==============================] - 1s 13ms/step - loss: 0.1163 - true_positives: 139.0000 - true_negatives: 1906.0000 - false_positives: 11.0000 - false_negatives: 53.0000 - accuracy: 0.9697 - val_loss: 0.1108 - val_true_positives: 56.0000 - val_true_negatives: 626.0000 - val_false_positives: 7.0000 - val_false_negatives: 14.0000 - val_accuracy: 0.9701\n",
            "Epoch 20/100\n",
            "66/66 [==============================] - 1s 12ms/step - loss: 0.1136 - true_positives: 135.0000 - true_negatives: 1903.0000 - false_positives: 14.0000 - false_negatives: 57.0000 - accuracy: 0.9663 - val_loss: 0.1044 - val_true_positives: 56.0000 - val_true_negatives: 630.0000 - val_false_positives: 3.0000 - val_false_negatives: 14.0000 - val_accuracy: 0.9758\n",
            "Epoch 21/100\n",
            "66/66 [==============================] - 1s 12ms/step - loss: 0.1152 - true_positives: 144.0000 - true_negatives: 1894.0000 - false_positives: 23.0000 - false_negatives: 48.0000 - accuracy: 0.9663 - val_loss: 0.1010 - val_true_positives: 58.0000 - val_true_negatives: 630.0000 - val_false_positives: 3.0000 - val_false_negatives: 12.0000 - val_accuracy: 0.9787\n",
            "Epoch 22/100\n",
            "66/66 [==============================] - 1s 13ms/step - loss: 0.1019 - true_positives: 147.0000 - true_negatives: 1903.0000 - false_positives: 14.0000 - false_negatives: 45.0000 - accuracy: 0.9720 - val_loss: 0.1055 - val_true_positives: 57.0000 - val_true_negatives: 630.0000 - val_false_positives: 3.0000 - val_false_negatives: 13.0000 - val_accuracy: 0.9772\n",
            "Epoch 23/100\n",
            "66/66 [==============================] - 1s 12ms/step - loss: 0.1118 - true_positives: 148.0000 - true_negatives: 1894.0000 - false_positives: 23.0000 - false_negatives: 44.0000 - accuracy: 0.9682 - val_loss: 0.1207 - val_true_positives: 67.0000 - val_true_negatives: 606.0000 - val_false_positives: 27.0000 - val_false_negatives: 3.0000 - val_accuracy: 0.9573\n",
            "Epoch 24/100\n",
            "66/66 [==============================] - 1s 14ms/step - loss: 0.1013 - true_positives: 157.0000 - true_negatives: 1901.0000 - false_positives: 16.0000 - false_negatives: 35.0000 - accuracy: 0.9758 - val_loss: 0.1305 - val_true_positives: 49.0000 - val_true_negatives: 631.0000 - val_false_positives: 2.0000 - val_false_negatives: 21.0000 - val_accuracy: 0.9673\n",
            "Epoch 25/100\n",
            "66/66 [==============================] - 1s 13ms/step - loss: 0.1116 - true_positives: 151.0000 - true_negatives: 1902.0000 - false_positives: 15.0000 - false_negatives: 41.0000 - accuracy: 0.9734 - val_loss: 0.1000 - val_true_positives: 62.0000 - val_true_negatives: 628.0000 - val_false_positives: 5.0000 - val_false_negatives: 8.0000 - val_accuracy: 0.9815\n",
            "Epoch 26/100\n",
            "66/66 [==============================] - 1s 13ms/step - loss: 0.0993 - true_positives: 150.0000 - true_negatives: 1898.0000 - false_positives: 19.0000 - false_negatives: 42.0000 - accuracy: 0.9711 - val_loss: 0.0962 - val_true_positives: 61.0000 - val_true_negatives: 628.0000 - val_false_positives: 5.0000 - val_false_negatives: 9.0000 - val_accuracy: 0.9801\n",
            "Epoch 27/100\n",
            "66/66 [==============================] - 1s 14ms/step - loss: 0.1034 - true_positives: 156.0000 - true_negatives: 1895.0000 - false_positives: 22.0000 - false_negatives: 36.0000 - accuracy: 0.9725 - val_loss: 0.0949 - val_true_positives: 61.0000 - val_true_negatives: 629.0000 - val_false_positives: 4.0000 - val_false_negatives: 9.0000 - val_accuracy: 0.9815\n",
            "Epoch 28/100\n",
            "66/66 [==============================] - 1s 13ms/step - loss: 0.0982 - true_positives: 159.0000 - true_negatives: 1903.0000 - false_positives: 14.0000 - false_negatives: 33.0000 - accuracy: 0.9777 - val_loss: 0.0962 - val_true_positives: 64.0000 - val_true_negatives: 626.0000 - val_false_positives: 7.0000 - val_false_negatives: 6.0000 - val_accuracy: 0.9815\n",
            "Epoch 29/100\n",
            "66/66 [==============================] - 1s 13ms/step - loss: 0.1049 - true_positives: 153.0000 - true_negatives: 1894.0000 - false_positives: 23.0000 - false_negatives: 39.0000 - accuracy: 0.9706 - val_loss: 0.0933 - val_true_positives: 63.0000 - val_true_negatives: 625.0000 - val_false_positives: 8.0000 - val_false_negatives: 7.0000 - val_accuracy: 0.9787\n",
            "Epoch 30/100\n",
            "66/66 [==============================] - 1s 12ms/step - loss: 0.1035 - true_positives: 160.0000 - true_negatives: 1896.0000 - false_positives: 21.0000 - false_negatives: 32.0000 - accuracy: 0.9749 - val_loss: 0.0927 - val_true_positives: 64.0000 - val_true_negatives: 627.0000 - val_false_positives: 6.0000 - val_false_negatives: 6.0000 - val_accuracy: 0.9829\n",
            "Epoch 31/100\n",
            "66/66 [==============================] - 1s 12ms/step - loss: 0.0931 - true_positives: 159.0000 - true_negatives: 1910.0000 - false_positives: 7.0000 - false_negatives: 33.0000 - accuracy: 0.9810 - val_loss: 0.0880 - val_true_positives: 62.0000 - val_true_negatives: 629.0000 - val_false_positives: 4.0000 - val_false_negatives: 8.0000 - val_accuracy: 0.9829\n",
            "Epoch 32/100\n",
            "66/66 [==============================] - 1s 12ms/step - loss: 0.0970 - true_positives: 155.0000 - true_negatives: 1905.0000 - false_positives: 12.0000 - false_negatives: 37.0000 - accuracy: 0.9768 - val_loss: 0.0853 - val_true_positives: 62.0000 - val_true_negatives: 628.0000 - val_false_positives: 5.0000 - val_false_negatives: 8.0000 - val_accuracy: 0.9815\n",
            "Epoch 33/100\n",
            "66/66 [==============================] - 1s 13ms/step - loss: 0.0943 - true_positives: 157.0000 - true_negatives: 1909.0000 - false_positives: 8.0000 - false_negatives: 35.0000 - accuracy: 0.9796 - val_loss: 0.0948 - val_true_positives: 59.0000 - val_true_negatives: 629.0000 - val_false_positives: 4.0000 - val_false_negatives: 11.0000 - val_accuracy: 0.9787\n",
            "Epoch 34/100\n",
            "66/66 [==============================] - 1s 14ms/step - loss: 0.1013 - true_positives: 157.0000 - true_negatives: 1901.0000 - false_positives: 16.0000 - false_negatives: 35.0000 - accuracy: 0.9758 - val_loss: 0.0900 - val_true_positives: 63.0000 - val_true_negatives: 625.0000 - val_false_positives: 8.0000 - val_false_negatives: 7.0000 - val_accuracy: 0.9787\n",
            "Epoch 35/100\n",
            "66/66 [==============================] - 1s 14ms/step - loss: 0.0862 - true_positives: 168.0000 - true_negatives: 1903.0000 - false_positives: 14.0000 - false_negatives: 24.0000 - accuracy: 0.9820 - val_loss: 0.0814 - val_true_positives: 65.0000 - val_true_negatives: 628.0000 - val_false_positives: 5.0000 - val_false_negatives: 5.0000 - val_accuracy: 0.9858\n",
            "Epoch 36/100\n",
            "66/66 [==============================] - 1s 13ms/step - loss: 0.0895 - true_positives: 163.0000 - true_negatives: 1904.0000 - false_positives: 13.0000 - false_negatives: 29.0000 - accuracy: 0.9801 - val_loss: 0.0874 - val_true_positives: 60.0000 - val_true_negatives: 629.0000 - val_false_positives: 4.0000 - val_false_negatives: 10.0000 - val_accuracy: 0.9801\n",
            "Epoch 37/100\n",
            "66/66 [==============================] - 1s 13ms/step - loss: 0.0819 - true_positives: 161.0000 - true_negatives: 1906.0000 - false_positives: 11.0000 - false_negatives: 31.0000 - accuracy: 0.9801 - val_loss: 0.0837 - val_true_positives: 61.0000 - val_true_negatives: 630.0000 - val_false_positives: 3.0000 - val_false_negatives: 9.0000 - val_accuracy: 0.9829\n",
            "Epoch 38/100\n",
            "66/66 [==============================] - 1s 12ms/step - loss: 0.0803 - true_positives: 164.0000 - true_negatives: 1906.0000 - false_positives: 11.0000 - false_negatives: 28.0000 - accuracy: 0.9815 - val_loss: 0.0777 - val_true_positives: 63.0000 - val_true_negatives: 628.0000 - val_false_positives: 5.0000 - val_false_negatives: 7.0000 - val_accuracy: 0.9829\n",
            "Epoch 39/100\n",
            "66/66 [==============================] - 1s 12ms/step - loss: 0.0792 - true_positives: 172.0000 - true_negatives: 1907.0000 - false_positives: 10.0000 - false_negatives: 20.0000 - accuracy: 0.9858 - val_loss: 0.0749 - val_true_positives: 63.0000 - val_true_negatives: 629.0000 - val_false_positives: 4.0000 - val_false_negatives: 7.0000 - val_accuracy: 0.9844\n",
            "Epoch 40/100\n",
            "66/66 [==============================] - 1s 13ms/step - loss: 0.0900 - true_positives: 168.0000 - true_negatives: 1889.0000 - false_positives: 28.0000 - false_negatives: 24.0000 - accuracy: 0.9753 - val_loss: 0.0830 - val_true_positives: 63.0000 - val_true_negatives: 623.0000 - val_false_positives: 10.0000 - val_false_negatives: 7.0000 - val_accuracy: 0.9758\n",
            "Epoch 41/100\n",
            "66/66 [==============================] - 1s 12ms/step - loss: 0.0803 - true_positives: 170.0000 - true_negatives: 1894.0000 - false_positives: 23.0000 - false_negatives: 22.0000 - accuracy: 0.9787 - val_loss: 0.0805 - val_true_positives: 60.0000 - val_true_negatives: 630.0000 - val_false_positives: 3.0000 - val_false_negatives: 10.0000 - val_accuracy: 0.9815\n",
            "Epoch 42/100\n",
            "66/66 [==============================] - 1s 13ms/step - loss: 0.0775 - true_positives: 167.0000 - true_negatives: 1906.0000 - false_positives: 11.0000 - false_negatives: 25.0000 - accuracy: 0.9829 - val_loss: 0.0845 - val_true_positives: 63.0000 - val_true_negatives: 623.0000 - val_false_positives: 10.0000 - val_false_negatives: 7.0000 - val_accuracy: 0.9758\n",
            "Epoch 43/100\n",
            "66/66 [==============================] - 1s 12ms/step - loss: 0.0805 - true_positives: 171.0000 - true_negatives: 1898.0000 - false_positives: 19.0000 - false_negatives: 21.0000 - accuracy: 0.9810 - val_loss: 0.0712 - val_true_positives: 62.0000 - val_true_negatives: 630.0000 - val_false_positives: 3.0000 - val_false_negatives: 8.0000 - val_accuracy: 0.9844\n",
            "Epoch 44/100\n",
            "66/66 [==============================] - 1s 13ms/step - loss: 0.0833 - true_positives: 175.0000 - true_negatives: 1887.0000 - false_positives: 30.0000 - false_negatives: 17.0000 - accuracy: 0.9777 - val_loss: 0.0968 - val_true_positives: 68.0000 - val_true_negatives: 607.0000 - val_false_positives: 26.0000 - val_false_negatives: 2.0000 - val_accuracy: 0.9602\n",
            "Epoch 45/100\n",
            "66/66 [==============================] - 1s 13ms/step - loss: 0.0791 - true_positives: 174.0000 - true_negatives: 1892.0000 - false_positives: 25.0000 - false_negatives: 18.0000 - accuracy: 0.9796 - val_loss: 0.0776 - val_true_positives: 66.0000 - val_true_negatives: 620.0000 - val_false_positives: 13.0000 - val_false_negatives: 4.0000 - val_accuracy: 0.9758\n",
            "Epoch 46/100\n",
            "66/66 [==============================] - 1s 12ms/step - loss: 0.0754 - true_positives: 174.0000 - true_negatives: 1900.0000 - false_positives: 17.0000 - false_negatives: 18.0000 - accuracy: 0.9834 - val_loss: 0.0699 - val_true_positives: 66.0000 - val_true_negatives: 626.0000 - val_false_positives: 7.0000 - val_false_negatives: 4.0000 - val_accuracy: 0.9844\n",
            "Epoch 47/100\n",
            "66/66 [==============================] - 1s 12ms/step - loss: 0.0798 - true_positives: 175.0000 - true_negatives: 1899.0000 - false_positives: 18.0000 - false_negatives: 17.0000 - accuracy: 0.9834 - val_loss: 0.0698 - val_true_positives: 64.0000 - val_true_negatives: 628.0000 - val_false_positives: 5.0000 - val_false_negatives: 6.0000 - val_accuracy: 0.9844\n",
            "Epoch 48/100\n",
            "66/66 [==============================] - 1s 12ms/step - loss: 0.0713 - true_positives: 175.0000 - true_negatives: 1901.0000 - false_positives: 16.0000 - false_negatives: 17.0000 - accuracy: 0.9844 - val_loss: 0.0670 - val_true_positives: 65.0000 - val_true_negatives: 628.0000 - val_false_positives: 5.0000 - val_false_negatives: 5.0000 - val_accuracy: 0.9858\n",
            "Epoch 49/100\n",
            "66/66 [==============================] - 1s 13ms/step - loss: 0.0732 - true_positives: 175.0000 - true_negatives: 1899.0000 - false_positives: 18.0000 - false_negatives: 17.0000 - accuracy: 0.9834 - val_loss: 0.0712 - val_true_positives: 62.0000 - val_true_negatives: 629.0000 - val_false_positives: 4.0000 - val_false_negatives: 8.0000 - val_accuracy: 0.9829\n",
            "Epoch 50/100\n",
            "66/66 [==============================] - 1s 12ms/step - loss: 0.0712 - true_positives: 173.0000 - true_negatives: 1899.0000 - false_positives: 18.0000 - false_negatives: 19.0000 - accuracy: 0.9825 - val_loss: 0.0712 - val_true_positives: 65.0000 - val_true_negatives: 627.0000 - val_false_positives: 6.0000 - val_false_negatives: 5.0000 - val_accuracy: 0.9844\n",
            "Epoch 51/100\n",
            "66/66 [==============================] - 1s 13ms/step - loss: 0.0743 - true_positives: 176.0000 - true_negatives: 1895.0000 - false_positives: 22.0000 - false_negatives: 16.0000 - accuracy: 0.9820 - val_loss: 0.0809 - val_true_positives: 63.0000 - val_true_negatives: 628.0000 - val_false_positives: 5.0000 - val_false_negatives: 7.0000 - val_accuracy: 0.9829\n",
            "Epoch 52/100\n",
            "66/66 [==============================] - 1s 14ms/step - loss: 0.0747 - true_positives: 172.0000 - true_negatives: 1899.0000 - false_positives: 18.0000 - false_negatives: 20.0000 - accuracy: 0.9820 - val_loss: 0.0652 - val_true_positives: 63.0000 - val_true_negatives: 630.0000 - val_false_positives: 3.0000 - val_false_negatives: 7.0000 - val_accuracy: 0.9858\n",
            "Epoch 53/100\n",
            "66/66 [==============================] - 1s 14ms/step - loss: 0.0649 - true_positives: 174.0000 - true_negatives: 1903.0000 - false_positives: 14.0000 - false_negatives: 18.0000 - accuracy: 0.9848 - val_loss: 0.0733 - val_true_positives: 62.0000 - val_true_negatives: 631.0000 - val_false_positives: 2.0000 - val_false_negatives: 8.0000 - val_accuracy: 0.9858\n",
            "Epoch 54/100\n",
            "66/66 [==============================] - 1s 12ms/step - loss: 0.0619 - true_positives: 173.0000 - true_negatives: 1909.0000 - false_positives: 8.0000 - false_negatives: 19.0000 - accuracy: 0.9872 - val_loss: 0.0699 - val_true_positives: 67.0000 - val_true_negatives: 623.0000 - val_false_positives: 10.0000 - val_false_negatives: 3.0000 - val_accuracy: 0.9815\n",
            "Epoch 55/100\n",
            "66/66 [==============================] - 1s 12ms/step - loss: 0.0715 - true_positives: 175.0000 - true_negatives: 1894.0000 - false_positives: 23.0000 - false_negatives: 17.0000 - accuracy: 0.9810 - val_loss: 0.1526 - val_true_positives: 69.0000 - val_true_negatives: 577.0000 - val_false_positives: 56.0000 - val_false_negatives: 1.0000 - val_accuracy: 0.9189\n",
            "Epoch 56/100\n",
            "66/66 [==============================] - 1s 14ms/step - loss: 0.0736 - true_positives: 172.0000 - true_negatives: 1890.0000 - false_positives: 27.0000 - false_negatives: 20.0000 - accuracy: 0.9777 - val_loss: 0.0616 - val_true_positives: 65.0000 - val_true_negatives: 630.0000 - val_false_positives: 3.0000 - val_false_negatives: 5.0000 - val_accuracy: 0.9886\n",
            "Epoch 57/100\n",
            "66/66 [==============================] - 1s 13ms/step - loss: 0.0609 - true_positives: 174.0000 - true_negatives: 1904.0000 - false_positives: 13.0000 - false_negatives: 18.0000 - accuracy: 0.9853 - val_loss: 0.0623 - val_true_positives: 66.0000 - val_true_negatives: 629.0000 - val_false_positives: 4.0000 - val_false_negatives: 4.0000 - val_accuracy: 0.9886\n",
            "Epoch 58/100\n",
            "66/66 [==============================] - 1s 14ms/step - loss: 0.0611 - true_positives: 180.0000 - true_negatives: 1899.0000 - false_positives: 18.0000 - false_negatives: 12.0000 - accuracy: 0.9858 - val_loss: 0.0888 - val_true_positives: 68.0000 - val_true_negatives: 606.0000 - val_false_positives: 27.0000 - val_false_negatives: 2.0000 - val_accuracy: 0.9587\n",
            "Epoch 59/100\n",
            "66/66 [==============================] - 1s 13ms/step - loss: 0.0751 - true_positives: 173.0000 - true_negatives: 1889.0000 - false_positives: 28.0000 - false_negatives: 19.0000 - accuracy: 0.9777 - val_loss: 0.0675 - val_true_positives: 61.0000 - val_true_negatives: 630.0000 - val_false_positives: 3.0000 - val_false_negatives: 9.0000 - val_accuracy: 0.9829\n",
            "Epoch 60/100\n",
            "66/66 [==============================] - 1s 13ms/step - loss: 0.0705 - true_positives: 175.0000 - true_negatives: 1899.0000 - false_positives: 18.0000 - false_negatives: 17.0000 - accuracy: 0.9834 - val_loss: 0.0726 - val_true_positives: 67.0000 - val_true_negatives: 620.0000 - val_false_positives: 13.0000 - val_false_negatives: 3.0000 - val_accuracy: 0.9772\n",
            "Epoch 61/100\n",
            "66/66 [==============================] - 1s 14ms/step - loss: 0.0628 - true_positives: 173.0000 - true_negatives: 1902.0000 - false_positives: 15.0000 - false_negatives: 19.0000 - accuracy: 0.9839 - val_loss: 0.0566 - val_true_positives: 66.0000 - val_true_negatives: 630.0000 - val_false_positives: 3.0000 - val_false_negatives: 4.0000 - val_accuracy: 0.9900\n",
            "Epoch 62/100\n",
            "66/66 [==============================] - 1s 14ms/step - loss: 0.0636 - true_positives: 173.0000 - true_negatives: 1906.0000 - false_positives: 11.0000 - false_negatives: 19.0000 - accuracy: 0.9858 - val_loss: 0.0562 - val_true_positives: 65.0000 - val_true_negatives: 630.0000 - val_false_positives: 3.0000 - val_false_negatives: 5.0000 - val_accuracy: 0.9886\n",
            "Epoch 63/100\n",
            "66/66 [==============================] - 1s 13ms/step - loss: 0.0639 - true_positives: 179.0000 - true_negatives: 1904.0000 - false_positives: 13.0000 - false_negatives: 13.0000 - accuracy: 0.9877 - val_loss: 0.0568 - val_true_positives: 66.0000 - val_true_negatives: 628.0000 - val_false_positives: 5.0000 - val_false_negatives: 4.0000 - val_accuracy: 0.9872\n",
            "Epoch 64/100\n",
            "66/66 [==============================] - 1s 13ms/step - loss: 0.0549 - true_positives: 181.0000 - true_negatives: 1907.0000 - false_positives: 10.0000 - false_negatives: 11.0000 - accuracy: 0.9900 - val_loss: 0.0581 - val_true_positives: 64.0000 - val_true_negatives: 630.0000 - val_false_positives: 3.0000 - val_false_negatives: 6.0000 - val_accuracy: 0.9872\n",
            "Epoch 65/100\n",
            "66/66 [==============================] - 1s 14ms/step - loss: 0.0638 - true_positives: 175.0000 - true_negatives: 1904.0000 - false_positives: 13.0000 - false_negatives: 17.0000 - accuracy: 0.9858 - val_loss: 0.0625 - val_true_positives: 65.0000 - val_true_negatives: 630.0000 - val_false_positives: 3.0000 - val_false_negatives: 5.0000 - val_accuracy: 0.9886\n",
            "Epoch 66/100\n",
            "66/66 [==============================] - 1s 13ms/step - loss: 0.0560 - true_positives: 178.0000 - true_negatives: 1903.0000 - false_positives: 14.0000 - false_negatives: 14.0000 - accuracy: 0.9867 - val_loss: 0.0581 - val_true_positives: 65.0000 - val_true_negatives: 630.0000 - val_false_positives: 3.0000 - val_false_negatives: 5.0000 - val_accuracy: 0.9886\n",
            "Epoch 67/100\n",
            "66/66 [==============================] - 1s 13ms/step - loss: 0.0571 - true_positives: 178.0000 - true_negatives: 1903.0000 - false_positives: 14.0000 - false_negatives: 14.0000 - accuracy: 0.9867 - val_loss: 0.0627 - val_true_positives: 66.0000 - val_true_negatives: 628.0000 - val_false_positives: 5.0000 - val_false_negatives: 4.0000 - val_accuracy: 0.9872\n",
            "Epoch 68/100\n",
            "66/66 [==============================] - 1s 13ms/step - loss: 0.0583 - true_positives: 182.0000 - true_negatives: 1904.0000 - false_positives: 13.0000 - false_negatives: 10.0000 - accuracy: 0.9891 - val_loss: 0.0619 - val_true_positives: 63.0000 - val_true_negatives: 631.0000 - val_false_positives: 2.0000 - val_false_negatives: 7.0000 - val_accuracy: 0.9872\n",
            "Epoch 69/100\n",
            "66/66 [==============================] - 1s 13ms/step - loss: 0.0554 - true_positives: 174.0000 - true_negatives: 1907.0000 - false_positives: 10.0000 - false_negatives: 18.0000 - accuracy: 0.9867 - val_loss: 0.0579 - val_true_positives: 66.0000 - val_true_negatives: 628.0000 - val_false_positives: 5.0000 - val_false_negatives: 4.0000 - val_accuracy: 0.9872\n",
            "Epoch 70/100\n",
            "66/66 [==============================] - 1s 14ms/step - loss: 0.0544 - true_positives: 176.0000 - true_negatives: 1909.0000 - false_positives: 8.0000 - false_negatives: 16.0000 - accuracy: 0.9886 - val_loss: 0.0540 - val_true_positives: 66.0000 - val_true_negatives: 630.0000 - val_false_positives: 3.0000 - val_false_negatives: 4.0000 - val_accuracy: 0.9900\n",
            "Epoch 71/100\n",
            "66/66 [==============================] - 1s 14ms/step - loss: 0.0576 - true_positives: 177.0000 - true_negatives: 1906.0000 - false_positives: 11.0000 - false_negatives: 15.0000 - accuracy: 0.9877 - val_loss: 0.0542 - val_true_positives: 66.0000 - val_true_negatives: 629.0000 - val_false_positives: 4.0000 - val_false_negatives: 4.0000 - val_accuracy: 0.9886\n",
            "Epoch 72/100\n",
            "66/66 [==============================] - 1s 13ms/step - loss: 0.0486 - true_positives: 180.0000 - true_negatives: 1911.0000 - false_positives: 6.0000 - false_negatives: 12.0000 - accuracy: 0.9915 - val_loss: 0.0643 - val_true_positives: 67.0000 - val_true_negatives: 620.0000 - val_false_positives: 13.0000 - val_false_negatives: 3.0000 - val_accuracy: 0.9772\n",
            "Epoch 73/100\n",
            "66/66 [==============================] - 1s 13ms/step - loss: 0.0568 - true_positives: 178.0000 - true_negatives: 1903.0000 - false_positives: 14.0000 - false_negatives: 14.0000 - accuracy: 0.9867 - val_loss: 0.0519 - val_true_positives: 66.0000 - val_true_negatives: 628.0000 - val_false_positives: 5.0000 - val_false_negatives: 4.0000 - val_accuracy: 0.9872\n",
            "Epoch 74/100\n",
            "66/66 [==============================] - 1s 12ms/step - loss: 0.0490 - true_positives: 181.0000 - true_negatives: 1904.0000 - false_positives: 13.0000 - false_negatives: 11.0000 - accuracy: 0.9886 - val_loss: 0.0651 - val_true_positives: 66.0000 - val_true_negatives: 630.0000 - val_false_positives: 3.0000 - val_false_negatives: 4.0000 - val_accuracy: 0.9900\n",
            "Epoch 75/100\n",
            "66/66 [==============================] - 1s 12ms/step - loss: 0.0464 - true_positives: 182.0000 - true_negatives: 1904.0000 - false_positives: 13.0000 - false_negatives: 10.0000 - accuracy: 0.9891 - val_loss: 0.0587 - val_true_positives: 66.0000 - val_true_negatives: 626.0000 - val_false_positives: 7.0000 - val_false_negatives: 4.0000 - val_accuracy: 0.9844\n",
            "Epoch 76/100\n",
            "66/66 [==============================] - 1s 12ms/step - loss: 0.0655 - true_positives: 178.0000 - true_negatives: 1891.0000 - false_positives: 26.0000 - false_negatives: 14.0000 - accuracy: 0.9810 - val_loss: 0.0548 - val_true_positives: 65.0000 - val_true_negatives: 626.0000 - val_false_positives: 7.0000 - val_false_negatives: 5.0000 - val_accuracy: 0.9829\n",
            "Epoch 77/100\n",
            "66/66 [==============================] - 1s 12ms/step - loss: 0.0528 - true_positives: 176.0000 - true_negatives: 1906.0000 - false_positives: 11.0000 - false_negatives: 16.0000 - accuracy: 0.9872 - val_loss: 0.0534 - val_true_positives: 64.0000 - val_true_negatives: 629.0000 - val_false_positives: 4.0000 - val_false_negatives: 6.0000 - val_accuracy: 0.9858\n",
            "Epoch 78/100\n",
            "66/66 [==============================] - 1s 13ms/step - loss: 0.0461 - true_positives: 179.0000 - true_negatives: 1907.0000 - false_positives: 10.0000 - false_negatives: 13.0000 - accuracy: 0.9891 - val_loss: 0.0584 - val_true_positives: 66.0000 - val_true_negatives: 624.0000 - val_false_positives: 9.0000 - val_false_negatives: 4.0000 - val_accuracy: 0.9815\n",
            "Epoch 79/100\n",
            "66/66 [==============================] - 1s 13ms/step - loss: 0.0463 - true_positives: 181.0000 - true_negatives: 1907.0000 - false_positives: 10.0000 - false_negatives: 11.0000 - accuracy: 0.9900 - val_loss: 0.0550 - val_true_positives: 65.0000 - val_true_negatives: 628.0000 - val_false_positives: 5.0000 - val_false_negatives: 5.0000 - val_accuracy: 0.9858\n",
            "Epoch 80/100\n",
            "66/66 [==============================] - 1s 12ms/step - loss: 0.0525 - true_positives: 185.0000 - true_negatives: 1900.0000 - false_positives: 17.0000 - false_negatives: 7.0000 - accuracy: 0.9886 - val_loss: 0.0534 - val_true_positives: 65.0000 - val_true_negatives: 632.0000 - val_false_positives: 1.0000 - val_false_negatives: 5.0000 - val_accuracy: 0.9915\n",
            "Epoch 81/100\n",
            "66/66 [==============================] - 1s 12ms/step - loss: 0.0532 - true_positives: 179.0000 - true_negatives: 1902.0000 - false_positives: 15.0000 - false_negatives: 13.0000 - accuracy: 0.9867 - val_loss: 0.0588 - val_true_positives: 67.0000 - val_true_negatives: 624.0000 - val_false_positives: 9.0000 - val_false_negatives: 3.0000 - val_accuracy: 0.9829\n",
            "Epoch 82/100\n",
            "66/66 [==============================] - 1s 13ms/step - loss: 0.0491 - true_positives: 180.0000 - true_negatives: 1902.0000 - false_positives: 15.0000 - false_negatives: 12.0000 - accuracy: 0.9872 - val_loss: 0.0718 - val_true_positives: 66.0000 - val_true_negatives: 623.0000 - val_false_positives: 10.0000 - val_false_negatives: 4.0000 - val_accuracy: 0.9801\n",
            "Epoch 83/100\n",
            "66/66 [==============================] - 1s 12ms/step - loss: 0.0491 - true_positives: 182.0000 - true_negatives: 1902.0000 - false_positives: 15.0000 - false_negatives: 10.0000 - accuracy: 0.9881 - val_loss: 0.0506 - val_true_positives: 66.0000 - val_true_negatives: 629.0000 - val_false_positives: 4.0000 - val_false_negatives: 4.0000 - val_accuracy: 0.9886\n",
            "Epoch 84/100\n",
            "66/66 [==============================] - 1s 13ms/step - loss: 0.0418 - true_positives: 178.0000 - true_negatives: 1907.0000 - false_positives: 10.0000 - false_negatives: 14.0000 - accuracy: 0.9886 - val_loss: 0.0506 - val_true_positives: 65.0000 - val_true_negatives: 630.0000 - val_false_positives: 3.0000 - val_false_negatives: 5.0000 - val_accuracy: 0.9886\n",
            "Epoch 85/100\n",
            "66/66 [==============================] - 1s 13ms/step - loss: 0.0423 - true_positives: 183.0000 - true_negatives: 1903.0000 - false_positives: 14.0000 - false_negatives: 9.0000 - accuracy: 0.9891 - val_loss: 0.0488 - val_true_positives: 65.0000 - val_true_negatives: 631.0000 - val_false_positives: 2.0000 - val_false_negatives: 5.0000 - val_accuracy: 0.9900\n",
            "Epoch 86/100\n",
            "66/66 [==============================] - 1s 13ms/step - loss: 0.0426 - true_positives: 182.0000 - true_negatives: 1907.0000 - false_positives: 10.0000 - false_negatives: 10.0000 - accuracy: 0.9905 - val_loss: 0.0611 - val_true_positives: 65.0000 - val_true_negatives: 629.0000 - val_false_positives: 4.0000 - val_false_negatives: 5.0000 - val_accuracy: 0.9872\n",
            "Epoch 87/100\n",
            "66/66 [==============================] - 1s 15ms/step - loss: 0.0470 - true_positives: 180.0000 - true_negatives: 1899.0000 - false_positives: 18.0000 - false_negatives: 12.0000 - accuracy: 0.9858 - val_loss: 0.0615 - val_true_positives: 64.0000 - val_true_negatives: 630.0000 - val_false_positives: 3.0000 - val_false_negatives: 6.0000 - val_accuracy: 0.9872\n",
            "Epoch 88/100\n",
            "66/66 [==============================] - 1s 12ms/step - loss: 0.0351 - true_positives: 178.0000 - true_negatives: 1910.0000 - false_positives: 7.0000 - false_negatives: 14.0000 - accuracy: 0.9900 - val_loss: 0.0767 - val_true_positives: 66.0000 - val_true_negatives: 624.0000 - val_false_positives: 9.0000 - val_false_negatives: 4.0000 - val_accuracy: 0.9815\n",
            "Epoch 89/100\n",
            "66/66 [==============================] - 1s 12ms/step - loss: 0.0504 - true_positives: 179.0000 - true_negatives: 1898.0000 - false_positives: 19.0000 - false_negatives: 13.0000 - accuracy: 0.9848 - val_loss: 0.0478 - val_true_positives: 67.0000 - val_true_negatives: 625.0000 - val_false_positives: 8.0000 - val_false_negatives: 3.0000 - val_accuracy: 0.9844\n",
            "Epoch 90/100\n",
            "66/66 [==============================] - 1s 14ms/step - loss: 0.0353 - true_positives: 181.0000 - true_negatives: 1906.0000 - false_positives: 11.0000 - false_negatives: 11.0000 - accuracy: 0.9896 - val_loss: 0.0665 - val_true_positives: 67.0000 - val_true_negatives: 619.0000 - val_false_positives: 14.0000 - val_false_negatives: 3.0000 - val_accuracy: 0.9758\n",
            "Epoch 91/100\n",
            "66/66 [==============================] - 1s 13ms/step - loss: 0.0378 - true_positives: 182.0000 - true_negatives: 1905.0000 - false_positives: 12.0000 - false_negatives: 10.0000 - accuracy: 0.9896 - val_loss: 0.0523 - val_true_positives: 65.0000 - val_true_negatives: 632.0000 - val_false_positives: 1.0000 - val_false_negatives: 5.0000 - val_accuracy: 0.9915\n",
            "Epoch 92/100\n",
            "66/66 [==============================] - 1s 13ms/step - loss: 0.0322 - true_positives: 187.0000 - true_negatives: 1906.0000 - false_positives: 11.0000 - false_negatives: 5.0000 - accuracy: 0.9924 - val_loss: 0.0720 - val_true_positives: 63.0000 - val_true_negatives: 631.0000 - val_false_positives: 2.0000 - val_false_negatives: 7.0000 - val_accuracy: 0.9872\n",
            "Epoch 93/100\n",
            "66/66 [==============================] - 1s 13ms/step - loss: 0.0393 - true_positives: 181.0000 - true_negatives: 1905.0000 - false_positives: 12.0000 - false_negatives: 11.0000 - accuracy: 0.9891 - val_loss: 0.0446 - val_true_positives: 66.0000 - val_true_negatives: 628.0000 - val_false_positives: 5.0000 - val_false_negatives: 4.0000 - val_accuracy: 0.9872\n",
            "Epoch 94/100\n",
            "66/66 [==============================] - 1s 13ms/step - loss: 0.0302 - true_positives: 186.0000 - true_negatives: 1904.0000 - false_positives: 13.0000 - false_negatives: 6.0000 - accuracy: 0.9910 - val_loss: 0.0508 - val_true_positives: 65.0000 - val_true_negatives: 628.0000 - val_false_positives: 5.0000 - val_false_negatives: 5.0000 - val_accuracy: 0.9858\n",
            "Epoch 95/100\n",
            "66/66 [==============================] - 1s 14ms/step - loss: 0.0345 - true_positives: 183.0000 - true_negatives: 1901.0000 - false_positives: 16.0000 - false_negatives: 9.0000 - accuracy: 0.9881 - val_loss: 0.0590 - val_true_positives: 66.0000 - val_true_negatives: 629.0000 - val_false_positives: 4.0000 - val_false_negatives: 4.0000 - val_accuracy: 0.9886\n",
            "Epoch 96/100\n",
            "66/66 [==============================] - 1s 14ms/step - loss: 0.0359 - true_positives: 178.0000 - true_negatives: 1904.0000 - false_positives: 13.0000 - false_negatives: 14.0000 - accuracy: 0.9872 - val_loss: 0.0577 - val_true_positives: 65.0000 - val_true_negatives: 630.0000 - val_false_positives: 3.0000 - val_false_negatives: 5.0000 - val_accuracy: 0.9886\n",
            "Epoch 97/100\n",
            "66/66 [==============================] - 1s 13ms/step - loss: 0.0288 - true_positives: 182.0000 - true_negatives: 1909.0000 - false_positives: 8.0000 - false_negatives: 10.0000 - accuracy: 0.9915 - val_loss: 0.0497 - val_true_positives: 66.0000 - val_true_negatives: 632.0000 - val_false_positives: 1.0000 - val_false_negatives: 4.0000 - val_accuracy: 0.9929\n",
            "Epoch 98/100\n",
            "66/66 [==============================] - 1s 13ms/step - loss: 0.0283 - true_positives: 183.0000 - true_negatives: 1906.0000 - false_positives: 11.0000 - false_negatives: 9.0000 - accuracy: 0.9905 - val_loss: 0.0565 - val_true_positives: 65.0000 - val_true_negatives: 632.0000 - val_false_positives: 1.0000 - val_false_negatives: 5.0000 - val_accuracy: 0.9915\n",
            "Epoch 99/100\n",
            "66/66 [==============================] - 1s 13ms/step - loss: 0.0375 - true_positives: 184.0000 - true_negatives: 1901.0000 - false_positives: 16.0000 - false_negatives: 8.0000 - accuracy: 0.9886 - val_loss: 0.0582 - val_true_positives: 67.0000 - val_true_negatives: 625.0000 - val_false_positives: 8.0000 - val_false_negatives: 3.0000 - val_accuracy: 0.9844\n",
            "Epoch 100/100\n",
            "66/66 [==============================] - 1s 14ms/step - loss: 0.0279 - true_positives: 186.0000 - true_negatives: 1908.0000 - false_positives: 9.0000 - false_negatives: 6.0000 - accuracy: 0.9929 - val_loss: 0.0786 - val_true_positives: 64.0000 - val_true_negatives: 631.0000 - val_false_positives: 2.0000 - val_false_negatives: 6.0000 - val_accuracy: 0.9886\n"
          ]
        }
      ]
    },
    {
      "cell_type": "code",
      "source": [
        "X_test.shape"
      ],
      "metadata": {
        "colab": {
          "base_uri": "https://localhost:8080/"
        },
        "id": "y1v9ECnvPgEj",
        "outputId": "c45c8443-0c7f-4bb2-f374-688eaa7cb146"
      },
      "execution_count": null,
      "outputs": [
        {
          "output_type": "execute_result",
          "data": {
            "text/plain": [
              "(703, 6, 1)"
            ]
          },
          "metadata": {},
          "execution_count": 13
        }
      ]
    },
    {
      "cell_type": "code",
      "source": [
        "y_test"
      ],
      "metadata": {
        "id": "nnQI6PpIPmdO"
      },
      "execution_count": null,
      "outputs": []
    },
    {
      "cell_type": "code",
      "source": [
        "pred = model3.predict(X_test)"
      ],
      "metadata": {
        "id": "D5e0XQRyXJpq"
      },
      "execution_count": null,
      "outputs": []
    },
    {
      "cell_type": "code",
      "source": [
        "pred.shape"
      ],
      "metadata": {
        "id": "m94aqPUcYucl",
        "colab": {
          "base_uri": "https://localhost:8080/"
        },
        "outputId": "d67870ba-bfad-4c95-adcb-bb0d248dd466"
      },
      "execution_count": null,
      "outputs": [
        {
          "output_type": "execute_result",
          "data": {
            "text/plain": [
              "(703, 1)"
            ]
          },
          "metadata": {},
          "execution_count": 22
        }
      ]
    },
    {
      "cell_type": "code",
      "source": [
        "for i in range(len(pred)):\n",
        "    if pred[i] <0.5:\n",
        "        pred[i]=0\n",
        "    else:\n",
        "        pred[i]=1"
      ],
      "metadata": {
        "id": "a9QqF4LDd0vZ"
      },
      "execution_count": null,
      "outputs": []
    },
    {
      "cell_type": "code",
      "source": [
        "pred = pred[:, 0]"
      ],
      "metadata": {
        "id": "xZXGuUToY8xq"
      },
      "execution_count": null,
      "outputs": []
    },
    {
      "cell_type": "code",
      "source": [
        "pred"
      ],
      "metadata": {
        "id": "csDjG50fZI0b"
      },
      "execution_count": null,
      "outputs": []
    },
    {
      "cell_type": "code",
      "source": [
        "print('accuracy:',accuracy_score(y_test,pred))\n",
        "print('precesion:',precision_score(y_test,pred))\n",
        "print('recall:',recall_score(y_test,pred))\n",
        "print('f1 score:',f1_score(y_test,pred))\n",
        "print('AUC_curve:',roc_auc_score(y_test,pred))"
      ],
      "metadata": {
        "id": "j66tk4SdHPPx",
        "colab": {
          "base_uri": "https://localhost:8080/"
        },
        "outputId": "d1d2bacd-715c-48f8-c399-e59086c3a26a"
      },
      "execution_count": null,
      "outputs": [
        {
          "output_type": "stream",
          "name": "stdout",
          "text": [
            "accuracy: 0.9886201991465149\n",
            "precesion: 0.9696969696969697\n",
            "recall: 0.9142857142857143\n",
            "f1 score: 0.9411764705882354\n",
            "AUC_curve: 0.9555630783118935\n"
          ]
        }
      ]
    },
    {
      "cell_type": "code",
      "source": [
        "train_loss = his.history['loss']\n",
        "test_loss = his.history['val_loss']"
      ],
      "metadata": {
        "id": "1IbD2YKHBUME"
      },
      "execution_count": null,
      "outputs": []
    },
    {
      "cell_type": "code",
      "source": [
        "epoch_count = range(1, len(train_loss) + 1)"
      ],
      "metadata": {
        "id": "MdnA5EPoBnJG"
      },
      "execution_count": null,
      "outputs": []
    },
    {
      "cell_type": "code",
      "source": [
        "plt.figure(figsize = (20,12))\n",
        "plt.plot(epoch_count, train_loss, 'r--')\n",
        "plt.plot(epoch_count, test_loss, 'b-')\n",
        "plt.legend(['Training Loss', 'Test Loss'])\n",
        "plt.xlabel('Epoch')\n",
        "plt.ylabel('Loss')\n",
        "plt.savefig('Epoch_loss_1.png')\n",
        "plt.show();"
      ],
      "metadata": {
        "colab": {
          "base_uri": "https://localhost:8080/",
          "height": 714
        },
        "id": "_vahpQppBs2X",
        "outputId": "6e4834c0-6fb1-47a1-8476-6b91d399c74c"
      },
      "execution_count": null,
      "outputs": [
        {
          "output_type": "display_data",
          "data": {
            "text/plain": [
              "<Figure size 1440x864 with 1 Axes>"
            ],
            "image/png": "[encoded data removed]"
          },
          "metadata": {
            "needs_background": "light"
          }
        }
      ]
    },
    {
      "cell_type": "code",
      "source": [
        "accuracy=accuracy_score(y_test,pred)\n"
      ],
      "metadata": {
        "id": "YtyiRlPYcjOP"
      },
      "execution_count": null,
      "outputs": []
    },
    {
      "cell_type": "code",
      "source": [
        "accuracy=his.history['accuracy']\n",
        "val_accuracy=his.history['val_accuracy']\n"
      ],
      "metadata": {
        "id": "WAi9ITy-eAZh"
      },
      "execution_count": null,
      "outputs": []
    },
    {
      "cell_type": "code",
      "source": [
        "plt.figure(figsize = (20,12))\n",
        "plt.plot(epoch_count,accuracy, 'g--')\n",
        "plt.plot(epoch_count,val_accuracy,'b-')\n",
        "plt.legend(['Training accuracy', 'Test accuracy'])\n",
        "plt.xlabel('Epoch')\n",
        "plt.ylabel('Accuracy')\n",
        "plt.savefig('acc03.png')"
      ],
      "metadata": {
        "colab": {
          "base_uri": "https://localhost:8080/",
          "height": 714
        },
        "id": "p_xDj-n5Rr-i",
        "outputId": "8a7bdb78-de8c-4022-9699-dc51241d6af1"
      },
      "execution_count": null,
      "outputs": [
        {
          "output_type": "display_data",
          "data": {
            "text/plain": [
              "<Figure size 1440x864 with 1 Axes>"
            ],
            "image/png": "[encoded data removed]"
          },
          "metadata": {
            "needs_background": "light"
          }
        }
      ]
    },
    {
      "cell_type": "code",
      "source": [
        ""
      ],
      "metadata": {
        "id": "u3jo6dSkFki4"
      },
      "execution_count": null,
      "outputs": []
    }
  ]
}